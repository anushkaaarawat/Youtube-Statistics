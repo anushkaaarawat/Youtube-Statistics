{
 "cells": [
  {
   "cell_type": "code",
   "execution_count": 1,
   "id": "c4b641bf",
   "metadata": {},
   "outputs": [],
   "source": [
    "import pandas as pd\n",
    "import numpy as np\n",
    "import matplotlib.pyplot as plt\n",
    "import seaborn as sns\n",
    "from sklearn.preprocessing import OneHotEncoder, StandardScaler\n",
    "from sklearn.ensemble import VotingClassifier, VotingRegressor\n",
    "from sklearn.model_selection import train_test_split\n",
    "from sklearn.linear_model import LogisticRegression\n",
    "from sklearn.tree import DecisionTreeClassifier\n",
    "from sklearn.ensemble import RandomForestClassifier"
   ]
  },
  {
   "cell_type": "code",
   "execution_count": 2,
   "id": "096d48d4",
   "metadata": {},
   "outputs": [
    {
     "data": {
      "text/html": [
       "<div>\n",
       "<style scoped>\n",
       "    .dataframe tbody tr th:only-of-type {\n",
       "        vertical-align: middle;\n",
       "    }\n",
       "\n",
       "    .dataframe tbody tr th {\n",
       "        vertical-align: top;\n",
       "    }\n",
       "\n",
       "    .dataframe thead th {\n",
       "        text-align: right;\n",
       "    }\n",
       "</style>\n",
       "<table border=\"1\" class=\"dataframe\">\n",
       "  <thead>\n",
       "    <tr style=\"text-align: right;\">\n",
       "      <th></th>\n",
       "      <th>rank</th>\n",
       "      <th>Youtuber</th>\n",
       "      <th>subscribers</th>\n",
       "      <th>video views</th>\n",
       "      <th>category</th>\n",
       "      <th>uploads</th>\n",
       "      <th>Country</th>\n",
       "      <th>video_views_rank</th>\n",
       "      <th>video_views_for_the_last_30_days</th>\n",
       "      <th>lowest_monthly_earnings</th>\n",
       "      <th>highest_monthly_earnings</th>\n",
       "      <th>lowest_yearly_earnings</th>\n",
       "      <th>highest_yearly_earnings</th>\n",
       "      <th>subscribers_for_last_30_days</th>\n",
       "      <th>Population</th>\n",
       "      <th>Urban_population</th>\n",
       "    </tr>\n",
       "  </thead>\n",
       "  <tbody>\n",
       "    <tr>\n",
       "      <th>0</th>\n",
       "      <td>1</td>\n",
       "      <td>T-Series</td>\n",
       "      <td>245000000</td>\n",
       "      <td>2.280000e+11</td>\n",
       "      <td>Music</td>\n",
       "      <td>20082</td>\n",
       "      <td>India</td>\n",
       "      <td>1.0</td>\n",
       "      <td>2.258000e+09</td>\n",
       "      <td>564600.0</td>\n",
       "      <td>9000000.00</td>\n",
       "      <td>6800000.00</td>\n",
       "      <td>1.084000e+08</td>\n",
       "      <td>2000000.0</td>\n",
       "      <td>1.366418e+09</td>\n",
       "      <td>471031528.0</td>\n",
       "    </tr>\n",
       "    <tr>\n",
       "      <th>1</th>\n",
       "      <td>2</td>\n",
       "      <td>YouTube Movies</td>\n",
       "      <td>170000000</td>\n",
       "      <td>0.000000e+00</td>\n",
       "      <td>Film &amp; Animation</td>\n",
       "      <td>1</td>\n",
       "      <td>United States</td>\n",
       "      <td>4055159.0</td>\n",
       "      <td>1.200000e+01</td>\n",
       "      <td>0.0</td>\n",
       "      <td>0.05</td>\n",
       "      <td>0.04</td>\n",
       "      <td>5.800000e-01</td>\n",
       "      <td>NaN</td>\n",
       "      <td>3.282395e+08</td>\n",
       "      <td>270663028.0</td>\n",
       "    </tr>\n",
       "    <tr>\n",
       "      <th>2</th>\n",
       "      <td>3</td>\n",
       "      <td>MrBeast</td>\n",
       "      <td>166000000</td>\n",
       "      <td>2.836884e+10</td>\n",
       "      <td>Entertainment</td>\n",
       "      <td>741</td>\n",
       "      <td>United States</td>\n",
       "      <td>48.0</td>\n",
       "      <td>1.348000e+09</td>\n",
       "      <td>337000.0</td>\n",
       "      <td>5400000.00</td>\n",
       "      <td>4000000.00</td>\n",
       "      <td>6.470000e+07</td>\n",
       "      <td>8000000.0</td>\n",
       "      <td>3.282395e+08</td>\n",
       "      <td>270663028.0</td>\n",
       "    </tr>\n",
       "    <tr>\n",
       "      <th>3</th>\n",
       "      <td>4</td>\n",
       "      <td>Cocomelon - Nursery Rhymes</td>\n",
       "      <td>162000000</td>\n",
       "      <td>1.640000e+11</td>\n",
       "      <td>Education</td>\n",
       "      <td>966</td>\n",
       "      <td>United States</td>\n",
       "      <td>2.0</td>\n",
       "      <td>1.975000e+09</td>\n",
       "      <td>493800.0</td>\n",
       "      <td>7900000.00</td>\n",
       "      <td>5900000.00</td>\n",
       "      <td>9.480000e+07</td>\n",
       "      <td>1000000.0</td>\n",
       "      <td>3.282395e+08</td>\n",
       "      <td>270663028.0</td>\n",
       "    </tr>\n",
       "    <tr>\n",
       "      <th>4</th>\n",
       "      <td>5</td>\n",
       "      <td>SET India</td>\n",
       "      <td>159000000</td>\n",
       "      <td>1.480000e+11</td>\n",
       "      <td>Shows</td>\n",
       "      <td>116536</td>\n",
       "      <td>India</td>\n",
       "      <td>3.0</td>\n",
       "      <td>1.824000e+09</td>\n",
       "      <td>455900.0</td>\n",
       "      <td>7300000.00</td>\n",
       "      <td>5500000.00</td>\n",
       "      <td>8.750000e+07</td>\n",
       "      <td>1000000.0</td>\n",
       "      <td>1.366418e+09</td>\n",
       "      <td>471031528.0</td>\n",
       "    </tr>\n",
       "    <tr>\n",
       "      <th>...</th>\n",
       "      <td>...</td>\n",
       "      <td>...</td>\n",
       "      <td>...</td>\n",
       "      <td>...</td>\n",
       "      <td>...</td>\n",
       "      <td>...</td>\n",
       "      <td>...</td>\n",
       "      <td>...</td>\n",
       "      <td>...</td>\n",
       "      <td>...</td>\n",
       "      <td>...</td>\n",
       "      <td>...</td>\n",
       "      <td>...</td>\n",
       "      <td>...</td>\n",
       "      <td>...</td>\n",
       "      <td>...</td>\n",
       "    </tr>\n",
       "    <tr>\n",
       "      <th>990</th>\n",
       "      <td>991</td>\n",
       "      <td>Natan por Aï¿</td>\n",
       "      <td>12300000</td>\n",
       "      <td>9.029610e+09</td>\n",
       "      <td>Sports</td>\n",
       "      <td>1200</td>\n",
       "      <td>Brazil</td>\n",
       "      <td>525.0</td>\n",
       "      <td>5.525130e+08</td>\n",
       "      <td>138100.0</td>\n",
       "      <td>2200000.00</td>\n",
       "      <td>1700000.00</td>\n",
       "      <td>2.650000e+07</td>\n",
       "      <td>700000.0</td>\n",
       "      <td>2.125594e+08</td>\n",
       "      <td>183241641.0</td>\n",
       "    </tr>\n",
       "    <tr>\n",
       "      <th>991</th>\n",
       "      <td>992</td>\n",
       "      <td>Free Fire India Official</td>\n",
       "      <td>12300000</td>\n",
       "      <td>1.674410e+09</td>\n",
       "      <td>People &amp; Blogs</td>\n",
       "      <td>1500</td>\n",
       "      <td>India</td>\n",
       "      <td>6141.0</td>\n",
       "      <td>6.473500e+07</td>\n",
       "      <td>16200.0</td>\n",
       "      <td>258900.00</td>\n",
       "      <td>194200.00</td>\n",
       "      <td>3.100000e+06</td>\n",
       "      <td>300000.0</td>\n",
       "      <td>1.366418e+09</td>\n",
       "      <td>471031528.0</td>\n",
       "    </tr>\n",
       "    <tr>\n",
       "      <th>992</th>\n",
       "      <td>993</td>\n",
       "      <td>Panda</td>\n",
       "      <td>12300000</td>\n",
       "      <td>2.214684e+09</td>\n",
       "      <td>NaN</td>\n",
       "      <td>2452</td>\n",
       "      <td>United Kingdom</td>\n",
       "      <td>129005.0</td>\n",
       "      <td>6.703500e+04</td>\n",
       "      <td>17.0</td>\n",
       "      <td>268.00</td>\n",
       "      <td>201.00</td>\n",
       "      <td>3.200000e+03</td>\n",
       "      <td>1000.0</td>\n",
       "      <td>6.683440e+07</td>\n",
       "      <td>55908316.0</td>\n",
       "    </tr>\n",
       "    <tr>\n",
       "      <th>993</th>\n",
       "      <td>994</td>\n",
       "      <td>RobTopGames</td>\n",
       "      <td>12300000</td>\n",
       "      <td>3.741235e+08</td>\n",
       "      <td>Gaming</td>\n",
       "      <td>39</td>\n",
       "      <td>Sweden</td>\n",
       "      <td>35112.0</td>\n",
       "      <td>3.871000e+06</td>\n",
       "      <td>968.0</td>\n",
       "      <td>15500.00</td>\n",
       "      <td>11600.00</td>\n",
       "      <td>1.858000e+05</td>\n",
       "      <td>100000.0</td>\n",
       "      <td>1.028545e+07</td>\n",
       "      <td>9021165.0</td>\n",
       "    </tr>\n",
       "    <tr>\n",
       "      <th>994</th>\n",
       "      <td>995</td>\n",
       "      <td>Make Joke Of</td>\n",
       "      <td>12300000</td>\n",
       "      <td>2.129774e+09</td>\n",
       "      <td>Comedy</td>\n",
       "      <td>62</td>\n",
       "      <td>India</td>\n",
       "      <td>4568.0</td>\n",
       "      <td>2.400000e+07</td>\n",
       "      <td>6000.0</td>\n",
       "      <td>96000.00</td>\n",
       "      <td>72000.00</td>\n",
       "      <td>1.200000e+06</td>\n",
       "      <td>100000.0</td>\n",
       "      <td>1.366418e+09</td>\n",
       "      <td>471031528.0</td>\n",
       "    </tr>\n",
       "  </tbody>\n",
       "</table>\n",
       "<p>995 rows × 16 columns</p>\n",
       "</div>"
      ],
      "text/plain": [
       "     rank                    Youtuber  subscribers   video views  \\\n",
       "0       1                    T-Series    245000000  2.280000e+11   \n",
       "1       2              YouTube Movies    170000000  0.000000e+00   \n",
       "2       3                     MrBeast    166000000  2.836884e+10   \n",
       "3       4  Cocomelon - Nursery Rhymes    162000000  1.640000e+11   \n",
       "4       5                   SET India    159000000  1.480000e+11   \n",
       "..    ...                         ...          ...           ...   \n",
       "990   991               Natan por Aï¿     12300000  9.029610e+09   \n",
       "991   992    Free Fire India Official     12300000  1.674410e+09   \n",
       "992   993                       Panda     12300000  2.214684e+09   \n",
       "993   994                 RobTopGames     12300000  3.741235e+08   \n",
       "994   995                Make Joke Of     12300000  2.129774e+09   \n",
       "\n",
       "             category  uploads         Country  video_views_rank  \\\n",
       "0               Music    20082           India               1.0   \n",
       "1    Film & Animation        1   United States         4055159.0   \n",
       "2       Entertainment      741   United States              48.0   \n",
       "3           Education      966   United States               2.0   \n",
       "4               Shows   116536           India               3.0   \n",
       "..                ...      ...             ...               ...   \n",
       "990            Sports     1200          Brazil             525.0   \n",
       "991    People & Blogs     1500           India            6141.0   \n",
       "992               NaN     2452  United Kingdom          129005.0   \n",
       "993            Gaming       39          Sweden           35112.0   \n",
       "994            Comedy       62           India            4568.0   \n",
       "\n",
       "     video_views_for_the_last_30_days  lowest_monthly_earnings  \\\n",
       "0                        2.258000e+09                 564600.0   \n",
       "1                        1.200000e+01                      0.0   \n",
       "2                        1.348000e+09                 337000.0   \n",
       "3                        1.975000e+09                 493800.0   \n",
       "4                        1.824000e+09                 455900.0   \n",
       "..                                ...                      ...   \n",
       "990                      5.525130e+08                 138100.0   \n",
       "991                      6.473500e+07                  16200.0   \n",
       "992                      6.703500e+04                     17.0   \n",
       "993                      3.871000e+06                    968.0   \n",
       "994                      2.400000e+07                   6000.0   \n",
       "\n",
       "     highest_monthly_earnings  lowest_yearly_earnings  \\\n",
       "0                  9000000.00              6800000.00   \n",
       "1                        0.05                    0.04   \n",
       "2                  5400000.00              4000000.00   \n",
       "3                  7900000.00              5900000.00   \n",
       "4                  7300000.00              5500000.00   \n",
       "..                        ...                     ...   \n",
       "990                2200000.00              1700000.00   \n",
       "991                 258900.00               194200.00   \n",
       "992                    268.00                  201.00   \n",
       "993                  15500.00                11600.00   \n",
       "994                  96000.00                72000.00   \n",
       "\n",
       "     highest_yearly_earnings  subscribers_for_last_30_days    Population  \\\n",
       "0               1.084000e+08                     2000000.0  1.366418e+09   \n",
       "1               5.800000e-01                           NaN  3.282395e+08   \n",
       "2               6.470000e+07                     8000000.0  3.282395e+08   \n",
       "3               9.480000e+07                     1000000.0  3.282395e+08   \n",
       "4               8.750000e+07                     1000000.0  1.366418e+09   \n",
       "..                       ...                           ...           ...   \n",
       "990             2.650000e+07                      700000.0  2.125594e+08   \n",
       "991             3.100000e+06                      300000.0  1.366418e+09   \n",
       "992             3.200000e+03                        1000.0  6.683440e+07   \n",
       "993             1.858000e+05                      100000.0  1.028545e+07   \n",
       "994             1.200000e+06                      100000.0  1.366418e+09   \n",
       "\n",
       "     Urban_population  \n",
       "0         471031528.0  \n",
       "1         270663028.0  \n",
       "2         270663028.0  \n",
       "3         270663028.0  \n",
       "4         471031528.0  \n",
       "..                ...  \n",
       "990       183241641.0  \n",
       "991       471031528.0  \n",
       "992        55908316.0  \n",
       "993         9021165.0  \n",
       "994       471031528.0  \n",
       "\n",
       "[995 rows x 16 columns]"
      ]
     },
     "execution_count": 2,
     "metadata": {},
     "output_type": "execute_result"
    }
   ],
   "source": [
    "df=pd.read_csv(r\"C:\\Users\\sahit\\OneDrive\\Documents\\sampledsp.csv\")\n",
    "df"
   ]
  },
  {
   "cell_type": "code",
   "execution_count": 3,
   "id": "8d967488",
   "metadata": {},
   "outputs": [
    {
     "data": {
      "text/plain": [
       "rank                                  int64\n",
       "Youtuber                             object\n",
       "subscribers                           int64\n",
       "video views                         float64\n",
       "category                             object\n",
       "uploads                               int64\n",
       "Country                              object\n",
       "video_views_rank                    float64\n",
       "video_views_for_the_last_30_days    float64\n",
       "lowest_monthly_earnings             float64\n",
       "highest_monthly_earnings            float64\n",
       "lowest_yearly_earnings              float64\n",
       "highest_yearly_earnings             float64\n",
       "subscribers_for_last_30_days        float64\n",
       "Population                          float64\n",
       "Urban_population                    float64\n",
       "dtype: object"
      ]
     },
     "execution_count": 3,
     "metadata": {},
     "output_type": "execute_result"
    }
   ],
   "source": [
    "df.dtypes"
   ]
  },
  {
   "cell_type": "code",
   "execution_count": 4,
   "id": "8d0b0f5a",
   "metadata": {},
   "outputs": [
    {
     "data": {
      "text/plain": [
       "Index(['rank', 'Youtuber', 'subscribers', 'video views', 'category', 'uploads',\n",
       "       'Country', 'video_views_rank', 'video_views_for_the_last_30_days',\n",
       "       'lowest_monthly_earnings', 'highest_monthly_earnings',\n",
       "       'lowest_yearly_earnings', 'highest_yearly_earnings',\n",
       "       'subscribers_for_last_30_days', 'Population', 'Urban_population'],\n",
       "      dtype='object')"
      ]
     },
     "execution_count": 4,
     "metadata": {},
     "output_type": "execute_result"
    }
   ],
   "source": [
    "df.columns"
   ]
  },
  {
   "cell_type": "code",
   "execution_count": 5,
   "id": "c88223bc",
   "metadata": {},
   "outputs": [
    {
     "data": {
      "text/plain": [
       "rank                                  0\n",
       "Youtuber                              0\n",
       "subscribers                           0\n",
       "video views                           0\n",
       "category                             46\n",
       "uploads                               0\n",
       "Country                             122\n",
       "video_views_rank                      1\n",
       "video_views_for_the_last_30_days     56\n",
       "lowest_monthly_earnings               0\n",
       "highest_monthly_earnings              0\n",
       "lowest_yearly_earnings                0\n",
       "highest_yearly_earnings               0\n",
       "subscribers_for_last_30_days        337\n",
       "Population                          123\n",
       "Urban_population                    123\n",
       "dtype: int64"
      ]
     },
     "execution_count": 5,
     "metadata": {},
     "output_type": "execute_result"
    }
   ],
   "source": [
    "df.isnull().sum()"
   ]
  },
  {
   "cell_type": "code",
   "execution_count": 6,
   "id": "9afb22ae",
   "metadata": {},
   "outputs": [
    {
     "data": {
      "text/plain": [
       "'United States'"
      ]
     },
     "execution_count": 6,
     "metadata": {},
     "output_type": "execute_result"
    }
   ],
   "source": [
    "mode2=df['Country'].mode()[0]\n",
    "mode2"
   ]
  },
  {
   "cell_type": "code",
   "execution_count": 7,
   "id": "bc40887a",
   "metadata": {},
   "outputs": [
    {
     "data": {
      "text/plain": [
       "0"
      ]
     },
     "execution_count": 7,
     "metadata": {},
     "output_type": "execute_result"
    }
   ],
   "source": [
    "df['Country'].replace(np.nan,mode2,inplace=True)\n",
    "df['Country'].isnull().sum()"
   ]
  },
  {
   "cell_type": "code",
   "execution_count": 8,
   "id": "93f70380",
   "metadata": {},
   "outputs": [
    {
     "data": {
      "text/plain": [
       "'Entertainment'"
      ]
     },
     "execution_count": 8,
     "metadata": {},
     "output_type": "execute_result"
    }
   ],
   "source": [
    "mode3=df['category'].mode()[0]\n",
    "mode3"
   ]
  },
  {
   "cell_type": "code",
   "execution_count": 9,
   "id": "a5ced3ef",
   "metadata": {},
   "outputs": [
    {
     "data": {
      "text/plain": [
       "0"
      ]
     },
     "execution_count": 9,
     "metadata": {},
     "output_type": "execute_result"
    }
   ],
   "source": [
    "df['category'].replace(np.nan,mode2,inplace=True)\n",
    "df['category'].isnull().sum()"
   ]
  },
  {
   "cell_type": "code",
   "execution_count": 10,
   "id": "d6088b77",
   "metadata": {},
   "outputs": [
    {
     "data": {
      "text/plain": [
       "100000.0"
      ]
     },
     "execution_count": 10,
     "metadata": {},
     "output_type": "execute_result"
    }
   ],
   "source": [
    "mode1=df['subscribers_for_last_30_days'].mode()[0]\n",
    "mode1"
   ]
  },
  {
   "cell_type": "code",
   "execution_count": 11,
   "id": "6c1aa773",
   "metadata": {},
   "outputs": [
    {
     "data": {
      "text/plain": [
       "0"
      ]
     },
     "execution_count": 11,
     "metadata": {},
     "output_type": "execute_result"
    }
   ],
   "source": [
    "df['subscribers_for_last_30_days'].replace(np.nan,mode1,inplace=True)\n",
    "df['subscribers_for_last_30_days'].isnull().sum()"
   ]
  },
  {
   "cell_type": "code",
   "execution_count": 12,
   "id": "015ff96d",
   "metadata": {},
   "outputs": [
    {
     "data": {
      "text/plain": [
       "328239523.0"
      ]
     },
     "execution_count": 12,
     "metadata": {},
     "output_type": "execute_result"
    }
   ],
   "source": [
    "mode4=df['Population'].mode()[0]\n",
    "mode4"
   ]
  },
  {
   "cell_type": "code",
   "execution_count": 13,
   "id": "b62c04f2",
   "metadata": {},
   "outputs": [
    {
     "data": {
      "text/plain": [
       "0"
      ]
     },
     "execution_count": 13,
     "metadata": {},
     "output_type": "execute_result"
    }
   ],
   "source": [
    "df['Population'].replace(np.nan,mode1,inplace=True)\n",
    "df['Population'].isnull().sum()"
   ]
  },
  {
   "cell_type": "code",
   "execution_count": 14,
   "id": "20506e00",
   "metadata": {},
   "outputs": [
    {
     "data": {
      "text/plain": [
       "rank                                  0\n",
       "Youtuber                              0\n",
       "subscribers                           0\n",
       "video views                           0\n",
       "category                              0\n",
       "uploads                               0\n",
       "Country                               0\n",
       "video_views_rank                      1\n",
       "video_views_for_the_last_30_days     56\n",
       "lowest_monthly_earnings               0\n",
       "highest_monthly_earnings              0\n",
       "lowest_yearly_earnings                0\n",
       "highest_yearly_earnings               0\n",
       "subscribers_for_last_30_days          0\n",
       "Population                            0\n",
       "Urban_population                    123\n",
       "dtype: int64"
      ]
     },
     "execution_count": 14,
     "metadata": {},
     "output_type": "execute_result"
    }
   ],
   "source": [
    "df.isnull().sum()"
   ]
  },
  {
   "cell_type": "code",
   "execution_count": 15,
   "id": "ec20e246",
   "metadata": {},
   "outputs": [
    {
     "data": {
      "text/plain": [
       "0"
      ]
     },
     "execution_count": 15,
     "metadata": {},
     "output_type": "execute_result"
    }
   ],
   "source": [
    "df['video_views_for_the_last_30_days'].fillna(method='ffill',inplace=True)\n",
    "df['video_views_for_the_last_30_days'].isnull().sum()"
   ]
  },
  {
   "cell_type": "code",
   "execution_count": 16,
   "id": "6073399a",
   "metadata": {},
   "outputs": [
    {
     "data": {
      "text/plain": [
       "0"
      ]
     },
     "execution_count": 16,
     "metadata": {},
     "output_type": "execute_result"
    }
   ],
   "source": [
    "df['video_views_rank'].fillna(method='ffill',inplace=True)\n",
    "df['video_views_rank'].isnull().sum()"
   ]
  },
  {
   "cell_type": "code",
   "execution_count": 17,
   "id": "dc5edd30",
   "metadata": {},
   "outputs": [
    {
     "data": {
      "text/plain": [
       "0"
      ]
     },
     "execution_count": 17,
     "metadata": {},
     "output_type": "execute_result"
    }
   ],
   "source": [
    "df['Urban_population'].fillna(method='ffill',inplace=True)\n",
    "df['Urban_population'].isnull().sum()"
   ]
  },
  {
   "cell_type": "code",
   "execution_count": 18,
   "id": "7559354a",
   "metadata": {},
   "outputs": [
    {
     "data": {
      "text/plain": [
       "rank                                0\n",
       "Youtuber                            0\n",
       "subscribers                         0\n",
       "video views                         0\n",
       "category                            0\n",
       "uploads                             0\n",
       "Country                             0\n",
       "video_views_rank                    0\n",
       "video_views_for_the_last_30_days    0\n",
       "lowest_monthly_earnings             0\n",
       "highest_monthly_earnings            0\n",
       "lowest_yearly_earnings              0\n",
       "highest_yearly_earnings             0\n",
       "subscribers_for_last_30_days        0\n",
       "Population                          0\n",
       "Urban_population                    0\n",
       "dtype: int64"
      ]
     },
     "execution_count": 18,
     "metadata": {},
     "output_type": "execute_result"
    }
   ],
   "source": [
    "df.isnull().sum()"
   ]
  },
  {
   "cell_type": "code",
   "execution_count": 19,
   "id": "5793b886",
   "metadata": {},
   "outputs": [
    {
     "data": {
      "text/plain": [
       "Index(['rank', 'Youtuber', 'subscribers', 'video views', 'category', 'uploads',\n",
       "       'Country', 'video_views_rank', 'video_views_for_the_last_30_days',\n",
       "       'lowest_monthly_earnings', 'highest_monthly_earnings',\n",
       "       'lowest_yearly_earnings', 'highest_yearly_earnings',\n",
       "       'subscribers_for_last_30_days', 'Population', 'Urban_population'],\n",
       "      dtype='object')"
      ]
     },
     "execution_count": 19,
     "metadata": {},
     "output_type": "execute_result"
    }
   ],
   "source": [
    "df.columns"
   ]
  },
  {
   "cell_type": "code",
   "execution_count": 20,
   "id": "7c4f4447",
   "metadata": {},
   "outputs": [
    {
     "data": {
      "text/html": [
       "<div>\n",
       "<style scoped>\n",
       "    .dataframe tbody tr th:only-of-type {\n",
       "        vertical-align: middle;\n",
       "    }\n",
       "\n",
       "    .dataframe tbody tr th {\n",
       "        vertical-align: top;\n",
       "    }\n",
       "\n",
       "    .dataframe thead th {\n",
       "        text-align: right;\n",
       "    }\n",
       "</style>\n",
       "<table border=\"1\" class=\"dataframe\">\n",
       "  <thead>\n",
       "    <tr style=\"text-align: right;\">\n",
       "      <th></th>\n",
       "      <th>rank</th>\n",
       "      <th>Youtuber</th>\n",
       "      <th>subscribers</th>\n",
       "      <th>video views</th>\n",
       "      <th>category</th>\n",
       "      <th>uploads</th>\n",
       "      <th>Country</th>\n",
       "      <th>video_views_rank</th>\n",
       "      <th>video_views_for_the_last_30_days</th>\n",
       "      <th>lowest_monthly_earnings</th>\n",
       "      <th>highest_monthly_earnings</th>\n",
       "      <th>lowest_yearly_earnings</th>\n",
       "      <th>highest_yearly_earnings</th>\n",
       "      <th>subscribers_for_last_30_days</th>\n",
       "      <th>Population</th>\n",
       "      <th>Urban_population</th>\n",
       "    </tr>\n",
       "  </thead>\n",
       "  <tbody>\n",
       "    <tr>\n",
       "      <th>0</th>\n",
       "      <td>1</td>\n",
       "      <td>T-Series</td>\n",
       "      <td>245000000</td>\n",
       "      <td>2.280000e+11</td>\n",
       "      <td>8</td>\n",
       "      <td>20082</td>\n",
       "      <td>18</td>\n",
       "      <td>1.0</td>\n",
       "      <td>2.258000e+09</td>\n",
       "      <td>564600.0</td>\n",
       "      <td>9000000.00</td>\n",
       "      <td>6800000.00</td>\n",
       "      <td>1.084000e+08</td>\n",
       "      <td>2000000.0</td>\n",
       "      <td>1.366418e+09</td>\n",
       "      <td>471031528.0</td>\n",
       "    </tr>\n",
       "    <tr>\n",
       "      <th>1</th>\n",
       "      <td>2</td>\n",
       "      <td>YouTube Movies</td>\n",
       "      <td>170000000</td>\n",
       "      <td>0.000000e+00</td>\n",
       "      <td>4</td>\n",
       "      <td>1</td>\n",
       "      <td>46</td>\n",
       "      <td>4055159.0</td>\n",
       "      <td>1.200000e+01</td>\n",
       "      <td>0.0</td>\n",
       "      <td>0.05</td>\n",
       "      <td>0.04</td>\n",
       "      <td>5.800000e-01</td>\n",
       "      <td>100000.0</td>\n",
       "      <td>3.282395e+08</td>\n",
       "      <td>270663028.0</td>\n",
       "    </tr>\n",
       "    <tr>\n",
       "      <th>2</th>\n",
       "      <td>3</td>\n",
       "      <td>MrBeast</td>\n",
       "      <td>166000000</td>\n",
       "      <td>2.836884e+10</td>\n",
       "      <td>3</td>\n",
       "      <td>741</td>\n",
       "      <td>46</td>\n",
       "      <td>48.0</td>\n",
       "      <td>1.348000e+09</td>\n",
       "      <td>337000.0</td>\n",
       "      <td>5400000.00</td>\n",
       "      <td>4000000.00</td>\n",
       "      <td>6.470000e+07</td>\n",
       "      <td>8000000.0</td>\n",
       "      <td>3.282395e+08</td>\n",
       "      <td>270663028.0</td>\n",
       "    </tr>\n",
       "    <tr>\n",
       "      <th>3</th>\n",
       "      <td>4</td>\n",
       "      <td>Cocomelon - Nursery Rhymes</td>\n",
       "      <td>162000000</td>\n",
       "      <td>1.640000e+11</td>\n",
       "      <td>2</td>\n",
       "      <td>966</td>\n",
       "      <td>46</td>\n",
       "      <td>2.0</td>\n",
       "      <td>1.975000e+09</td>\n",
       "      <td>493800.0</td>\n",
       "      <td>7900000.00</td>\n",
       "      <td>5900000.00</td>\n",
       "      <td>9.480000e+07</td>\n",
       "      <td>1000000.0</td>\n",
       "      <td>3.282395e+08</td>\n",
       "      <td>270663028.0</td>\n",
       "    </tr>\n",
       "    <tr>\n",
       "      <th>4</th>\n",
       "      <td>5</td>\n",
       "      <td>SET India</td>\n",
       "      <td>159000000</td>\n",
       "      <td>1.480000e+11</td>\n",
       "      <td>14</td>\n",
       "      <td>116536</td>\n",
       "      <td>18</td>\n",
       "      <td>3.0</td>\n",
       "      <td>1.824000e+09</td>\n",
       "      <td>455900.0</td>\n",
       "      <td>7300000.00</td>\n",
       "      <td>5500000.00</td>\n",
       "      <td>8.750000e+07</td>\n",
       "      <td>1000000.0</td>\n",
       "      <td>1.366418e+09</td>\n",
       "      <td>471031528.0</td>\n",
       "    </tr>\n",
       "  </tbody>\n",
       "</table>\n",
       "</div>"
      ],
      "text/plain": [
       "   rank                    Youtuber  subscribers   video views  category  \\\n",
       "0     1                    T-Series    245000000  2.280000e+11         8   \n",
       "1     2              YouTube Movies    170000000  0.000000e+00         4   \n",
       "2     3                     MrBeast    166000000  2.836884e+10         3   \n",
       "3     4  Cocomelon - Nursery Rhymes    162000000  1.640000e+11         2   \n",
       "4     5                   SET India    159000000  1.480000e+11        14   \n",
       "\n",
       "   uploads  Country  video_views_rank  video_views_for_the_last_30_days  \\\n",
       "0    20082       18               1.0                      2.258000e+09   \n",
       "1        1       46         4055159.0                      1.200000e+01   \n",
       "2      741       46              48.0                      1.348000e+09   \n",
       "3      966       46               2.0                      1.975000e+09   \n",
       "4   116536       18               3.0                      1.824000e+09   \n",
       "\n",
       "   lowest_monthly_earnings  highest_monthly_earnings  lowest_yearly_earnings  \\\n",
       "0                 564600.0                9000000.00              6800000.00   \n",
       "1                      0.0                      0.05                    0.04   \n",
       "2                 337000.0                5400000.00              4000000.00   \n",
       "3                 493800.0                7900000.00              5900000.00   \n",
       "4                 455900.0                7300000.00              5500000.00   \n",
       "\n",
       "   highest_yearly_earnings  subscribers_for_last_30_days    Population  \\\n",
       "0             1.084000e+08                     2000000.0  1.366418e+09   \n",
       "1             5.800000e-01                      100000.0  3.282395e+08   \n",
       "2             6.470000e+07                     8000000.0  3.282395e+08   \n",
       "3             9.480000e+07                     1000000.0  3.282395e+08   \n",
       "4             8.750000e+07                     1000000.0  1.366418e+09   \n",
       "\n",
       "   Urban_population  \n",
       "0       471031528.0  \n",
       "1       270663028.0  \n",
       "2       270663028.0  \n",
       "3       270663028.0  \n",
       "4       471031528.0  "
      ]
     },
     "execution_count": 20,
     "metadata": {},
     "output_type": "execute_result"
    }
   ],
   "source": [
    "to_categorical=['category','Country'] \n",
    "from sklearn.preprocessing import LabelEncoder \n",
    "Lencoder=LabelEncoder() \n",
    "for label in to_categorical:\n",
    "    df[label]=Lencoder.fit_transform(df[label])\n",
    "df.head()"
   ]
  },
  {
   "cell_type": "code",
   "execution_count": 21,
   "id": "c4ff9bad",
   "metadata": {},
   "outputs": [
    {
     "data": {
      "text/html": [
       "<style>#sk-container-id-1 {color: black;background-color: white;}#sk-container-id-1 pre{padding: 0;}#sk-container-id-1 div.sk-toggleable {background-color: white;}#sk-container-id-1 label.sk-toggleable__label {cursor: pointer;display: block;width: 100%;margin-bottom: 0;padding: 0.3em;box-sizing: border-box;text-align: center;}#sk-container-id-1 label.sk-toggleable__label-arrow:before {content: \"▸\";float: left;margin-right: 0.25em;color: #696969;}#sk-container-id-1 label.sk-toggleable__label-arrow:hover:before {color: black;}#sk-container-id-1 div.sk-estimator:hover label.sk-toggleable__label-arrow:before {color: black;}#sk-container-id-1 div.sk-toggleable__content {max-height: 0;max-width: 0;overflow: hidden;text-align: left;background-color: #f0f8ff;}#sk-container-id-1 div.sk-toggleable__content pre {margin: 0.2em;color: black;border-radius: 0.25em;background-color: #f0f8ff;}#sk-container-id-1 input.sk-toggleable__control:checked~div.sk-toggleable__content {max-height: 200px;max-width: 100%;overflow: auto;}#sk-container-id-1 input.sk-toggleable__control:checked~label.sk-toggleable__label-arrow:before {content: \"▾\";}#sk-container-id-1 div.sk-estimator input.sk-toggleable__control:checked~label.sk-toggleable__label {background-color: #d4ebff;}#sk-container-id-1 div.sk-label input.sk-toggleable__control:checked~label.sk-toggleable__label {background-color: #d4ebff;}#sk-container-id-1 input.sk-hidden--visually {border: 0;clip: rect(1px 1px 1px 1px);clip: rect(1px, 1px, 1px, 1px);height: 1px;margin: -1px;overflow: hidden;padding: 0;position: absolute;width: 1px;}#sk-container-id-1 div.sk-estimator {font-family: monospace;background-color: #f0f8ff;border: 1px dotted black;border-radius: 0.25em;box-sizing: border-box;margin-bottom: 0.5em;}#sk-container-id-1 div.sk-estimator:hover {background-color: #d4ebff;}#sk-container-id-1 div.sk-parallel-item::after {content: \"\";width: 100%;border-bottom: 1px solid gray;flex-grow: 1;}#sk-container-id-1 div.sk-label:hover label.sk-toggleable__label {background-color: #d4ebff;}#sk-container-id-1 div.sk-serial::before {content: \"\";position: absolute;border-left: 1px solid gray;box-sizing: border-box;top: 0;bottom: 0;left: 50%;z-index: 0;}#sk-container-id-1 div.sk-serial {display: flex;flex-direction: column;align-items: center;background-color: white;padding-right: 0.2em;padding-left: 0.2em;position: relative;}#sk-container-id-1 div.sk-item {position: relative;z-index: 1;}#sk-container-id-1 div.sk-parallel {display: flex;align-items: stretch;justify-content: center;background-color: white;position: relative;}#sk-container-id-1 div.sk-item::before, #sk-container-id-1 div.sk-parallel-item::before {content: \"\";position: absolute;border-left: 1px solid gray;box-sizing: border-box;top: 0;bottom: 0;left: 50%;z-index: -1;}#sk-container-id-1 div.sk-parallel-item {display: flex;flex-direction: column;z-index: 1;position: relative;background-color: white;}#sk-container-id-1 div.sk-parallel-item:first-child::after {align-self: flex-end;width: 50%;}#sk-container-id-1 div.sk-parallel-item:last-child::after {align-self: flex-start;width: 50%;}#sk-container-id-1 div.sk-parallel-item:only-child::after {width: 0;}#sk-container-id-1 div.sk-dashed-wrapped {border: 1px dashed gray;margin: 0 0.4em 0.5em 0.4em;box-sizing: border-box;padding-bottom: 0.4em;background-color: white;}#sk-container-id-1 div.sk-label label {font-family: monospace;font-weight: bold;display: inline-block;line-height: 1.2em;}#sk-container-id-1 div.sk-label-container {text-align: center;}#sk-container-id-1 div.sk-container {/* jupyter's `normalize.less` sets `[hidden] { display: none; }` but bootstrap.min.css set `[hidden] { display: none !important; }` so we also need the `!important` here to be able to override the default hidden behavior on the sphinx rendered scikit-learn.org. See: https://github.com/scikit-learn/scikit-learn/issues/21755 */display: inline-block !important;position: relative;}#sk-container-id-1 div.sk-text-repr-fallback {display: none;}</style><div id=\"sk-container-id-1\" class=\"sk-top-container\"><div class=\"sk-text-repr-fallback\"><pre>LinearRegression()</pre><b>In a Jupyter environment, please rerun this cell to show the HTML representation or trust the notebook. <br />On GitHub, the HTML representation is unable to render, please try loading this page with nbviewer.org.</b></div><div class=\"sk-container\" hidden><div class=\"sk-item\"><div class=\"sk-estimator sk-toggleable\"><input class=\"sk-toggleable__control sk-hidden--visually\" id=\"sk-estimator-id-1\" type=\"checkbox\" checked><label for=\"sk-estimator-id-1\" class=\"sk-toggleable__label sk-toggleable__label-arrow\">LinearRegression</label><div class=\"sk-toggleable__content\"><pre>LinearRegression()</pre></div></div></div></div></div>"
      ],
      "text/plain": [
       "LinearRegression()"
      ]
     },
     "execution_count": 21,
     "metadata": {},
     "output_type": "execute_result"
    }
   ],
   "source": [
    "from sklearn.linear_model import LinearRegression\n",
    "model= LinearRegression()\n",
    "model.fit(df[['video views']],df['subscribers'])"
   ]
  },
  {
   "cell_type": "code",
   "execution_count": 22,
   "id": "95f394a4",
   "metadata": {},
   "outputs": [
    {
     "name": "stderr",
     "output_type": "stream",
     "text": [
      "C:\\Users\\sahit\\anaconda3\\lib\\site-packages\\sklearn\\base.py:420: UserWarning: X does not have valid feature names, but LinearRegression was fitted with feature names\n",
      "  warnings.warn(\n"
     ]
    },
    {
     "data": {
      "text/plain": [
       "array([14526534.51471953])"
      ]
     },
     "execution_count": 22,
     "metadata": {},
     "output_type": "execute_result"
    }
   ],
   "source": [
    "model.predict([[1973638757]])"
   ]
  },
  {
   "cell_type": "code",
   "execution_count": null,
   "id": "d6480865",
   "metadata": {},
   "outputs": [],
   "source": []
  },
  {
   "cell_type": "code",
   "execution_count": null,
   "id": "54e7802b",
   "metadata": {},
   "outputs": [],
   "source": []
  },
  {
   "cell_type": "code",
   "execution_count": 23,
   "id": "3314f38a",
   "metadata": {},
   "outputs": [
    {
     "data": {
      "text/plain": [
       "rank                                  int64\n",
       "Youtuber                             object\n",
       "subscribers                           int64\n",
       "video views                         float64\n",
       "category                              int32\n",
       "uploads                               int64\n",
       "Country                               int32\n",
       "video_views_rank                    float64\n",
       "video_views_for_the_last_30_days    float64\n",
       "lowest_monthly_earnings             float64\n",
       "highest_monthly_earnings            float64\n",
       "lowest_yearly_earnings              float64\n",
       "highest_yearly_earnings             float64\n",
       "subscribers_for_last_30_days        float64\n",
       "Population                          float64\n",
       "Urban_population                    float64\n",
       "dtype: object"
      ]
     },
     "execution_count": 23,
     "metadata": {},
     "output_type": "execute_result"
    }
   ],
   "source": [
    "df.dtypes"
   ]
  },
  {
   "cell_type": "markdown",
   "id": "bfa7d2cd",
   "metadata": {},
   "source": [
    "RandomForest classifier"
   ]
  },
  {
   "cell_type": "code",
   "execution_count": 24,
   "id": "1147c3d2",
   "metadata": {},
   "outputs": [
    {
     "name": "stdout",
     "output_type": "stream",
     "text": [
      "Blending Model Accuracy: 0.864321608040201\n"
     ]
    }
   ],
   "source": [
    "from sklearn.model_selection import train_test_split\n",
    "from sklearn.linear_model import LogisticRegression\n",
    "from sklearn.tree import DecisionTreeClassifier\n",
    "from sklearn.ensemble import RandomForestClassifier\n",
    "import pandas as pd\n",
    "import numpy as np\n",
    "import warnings\n",
    "warnings.filterwarnings('ignore')\n",
    "feature_cols = ['rank', 'subscribers', 'video views', 'category', 'uploads',\n",
    "       'Country', 'video_views_rank', 'video_views_for_the_last_30_days',\n",
    "       'lowest_monthly_earnings', 'highest_monthly_earnings',\n",
    "       'lowest_yearly_earnings', 'highest_yearly_earnings', 'Population', 'Urban_population']\n",
    "X = df[feature_cols]\n",
    "y = df.subscribers_for_last_30_days\n",
    "X_train, X_test, y_train, y_test = train_test_split(X, y, test_size=0.2,random_state=42)\n",
    "model1 = LogisticRegression() \n",
    "model2 = DecisionTreeClassifier()\n",
    "model3 = RandomForestClassifier()\n",
    "model1.fit(X_train, y_train) \n",
    "model2.fit(X_train, y_train)\n",
    "model3.fit(X_train, y_train)\n",
    "pred1 = model1.predict(X_test) \n",
    "pred2 = model2.predict(X_test)\n",
    "pred3 = model3.predict(X_test)\n",
    "blending_model = RandomForestClassifier() \n",
    "blending_model.fit(np.column_stack((pred1, pred2, pred3)), y_test)\n",
    "accuracy = blending_model.score(np.column_stack((pred1, pred2, pred3)), y_test)\n",
    "print(\"Blending Model Accuracy:\",accuracy)\n"
   ]
  },
  {
   "cell_type": "markdown",
   "id": "8612e73f",
   "metadata": {},
   "source": [
    "Decision Tree classifier"
   ]
  },
  {
   "cell_type": "code",
   "execution_count": 25,
   "id": "7a9e3bb9",
   "metadata": {},
   "outputs": [
    {
     "name": "stdout",
     "output_type": "stream",
     "text": [
      "Blending Model Accuracy: 0.8291457286432161\n"
     ]
    }
   ],
   "source": [
    "from sklearn.model_selection import train_test_split\n",
    "from sklearn.linear_model import LogisticRegression\n",
    "from sklearn.tree import DecisionTreeClassifier\n",
    "from sklearn.ensemble import RandomForestClassifier\n",
    "import pandas as pd\n",
    "import numpy as np\n",
    "import warnings\n",
    "warnings.filterwarnings('ignore')\n",
    "feature_cols = ['rank', 'subscribers', 'video views', 'category', 'uploads',\n",
    "       'Country', 'video_views_rank', 'video_views_for_the_last_30_days',\n",
    "       'lowest_monthly_earnings', 'highest_monthly_earnings',\n",
    "       'lowest_yearly_earnings', 'highest_yearly_earnings', 'Population', 'Urban_population']\n",
    "X = df[feature_cols]\n",
    "y = df.subscribers_for_last_30_days\n",
    "X_train, X_test, y_train, y_test = train_test_split(X, y, test_size=0.2,random_state=42)\n",
    "model1 = LogisticRegression() \n",
    "model2 = DecisionTreeClassifier()\n",
    "model3 = RandomForestClassifier()\n",
    "model1.fit(X_train, y_train) \n",
    "model2.fit(X_train, y_train)\n",
    "model3.fit(X_train, y_train)\n",
    "pred1 = model1.predict(X_test) \n",
    "pred2 = model2.predict(X_test)\n",
    "pred3 = model3.predict(X_test)\n",
    "blending_model = DecisionTreeClassifier()\n",
    "blending_model.fit(np.column_stack((pred1, pred2, pred3)), y_test)\n",
    "accuracy = blending_model.score(np.column_stack((pred1, pred2, pred3)), y_test)\n",
    "print(\"Blending Model Accuracy:\",accuracy)"
   ]
  },
  {
   "cell_type": "markdown",
   "id": "c4a372c5",
   "metadata": {},
   "source": [
    "Logistic Regression"
   ]
  },
  {
   "cell_type": "code",
   "execution_count": 26,
   "id": "6b835877",
   "metadata": {},
   "outputs": [
    {
     "name": "stdout",
     "output_type": "stream",
     "text": [
      "Blending Model Accuracy: 0.6130653266331658\n"
     ]
    }
   ],
   "source": [
    "from sklearn.model_selection import train_test_split\n",
    "from sklearn.linear_model import LogisticRegression\n",
    "from sklearn.tree import DecisionTreeClassifier\n",
    "from sklearn.ensemble import RandomForestClassifier\n",
    "import pandas as pd\n",
    "import numpy as np\n",
    "import warnings\n",
    "warnings.filterwarnings('ignore')\n",
    "feature_cols = ['rank', 'subscribers', 'video views', 'category', 'uploads',\n",
    "       'Country', 'video_views_rank', 'video_views_for_the_last_30_days',\n",
    "       'lowest_monthly_earnings', 'highest_monthly_earnings',\n",
    "       'lowest_yearly_earnings', 'highest_yearly_earnings', 'Population', 'Urban_population']\n",
    "X = df[feature_cols]\n",
    "y = df.subscribers_for_last_30_days\n",
    "X_train, X_test, y_train, y_test = train_test_split(X, y, test_size=0.2,random_state=42)\n",
    "model1 = LogisticRegression() \n",
    "model2 = DecisionTreeClassifier()\n",
    "model3 = RandomForestClassifier()\n",
    "model1.fit(X_train, y_train) \n",
    "model2.fit(X_train, y_train)\n",
    "model3.fit(X_train, y_train)\n",
    "pred1 = model1.predict(X_test) \n",
    "pred2 = model2.predict(X_test)\n",
    "pred3 = model3.predict(X_test)\n",
    "blending_model = LogisticRegression() \n",
    "blending_model.fit(np.column_stack((pred1, pred2, pred3)), y_test)\n",
    "accuracy = blending_model.score(np.column_stack((pred1, pred2, pred3)), y_test)\n",
    "print(\"Blending Model Accuracy:\",accuracy)"
   ]
  },
  {
   "cell_type": "markdown",
   "id": "1fe4bec7",
   "metadata": {},
   "source": [
    "Linear Regression"
   ]
  },
  {
   "cell_type": "code",
   "execution_count": 27,
   "id": "12c9445c",
   "metadata": {},
   "outputs": [
    {
     "name": "stdout",
     "output_type": "stream",
     "text": [
      "Blending Model Accuracy: 0.6191971552151745\n"
     ]
    }
   ],
   "source": [
    "from sklearn.model_selection import train_test_split\n",
    "from sklearn.linear_model import LinearRegression\n",
    "from sklearn.tree import DecisionTreeClassifier\n",
    "from sklearn.ensemble import RandomForestClassifier\n",
    "import pandas as pd\n",
    "import numpy as np\n",
    "import warnings\n",
    "warnings.filterwarnings('ignore')\n",
    "feature_cols = ['rank', 'subscribers', 'video views', 'category', 'uploads',\n",
    "       'Country', 'video_views_rank', 'video_views_for_the_last_30_days',\n",
    "       'lowest_monthly_earnings', 'highest_monthly_earnings',\n",
    "       'lowest_yearly_earnings', 'highest_yearly_earnings', 'Population', 'Urban_population']\n",
    "X = df[feature_cols]\n",
    "y = df.subscribers_for_last_30_days\n",
    "X_train, X_test, y_train, y_test = train_test_split(X, y, test_size=0.2,random_state=42)\n",
    "model1 = LogisticRegression() \n",
    "model2 = DecisionTreeClassifier()\n",
    "model3 = RandomForestClassifier()\n",
    "model1.fit(X_train, y_train) \n",
    "model2.fit(X_train, y_train)\n",
    "model3.fit(X_train, y_train)\n",
    "pred1 = model1.predict(X_test) \n",
    "pred2 = model2.predict(X_test)\n",
    "pred3 = model3.predict(X_test)\n",
    "blending_model = LinearRegression() \n",
    "blending_model.fit(np.column_stack((pred1, pred2, pred3)), y_test)\n",
    "accuracy = blending_model.score(np.column_stack((pred1, pred2, pred3)), y_test)\n",
    "print(\"Blending Model Accuracy:\",accuracy)"
   ]
  },
  {
   "cell_type": "markdown",
   "id": "ddbf1879",
   "metadata": {},
   "source": [
    "SVM classifier"
   ]
  },
  {
   "cell_type": "code",
   "execution_count": 28,
   "id": "7bf1460b",
   "metadata": {},
   "outputs": [
    {
     "name": "stdout",
     "output_type": "stream",
     "text": [
      "Blending Model Accuracy: 0.6532663316582915\n"
     ]
    }
   ],
   "source": [
    "from sklearn.model_selection import train_test_split\n",
    "from sklearn.svm import SVC\n",
    "from sklearn.tree import DecisionTreeClassifier\n",
    "from sklearn.ensemble import RandomForestClassifier\n",
    "import pandas as pd\n",
    "import numpy as np\n",
    "import warnings\n",
    "warnings.filterwarnings('ignore')\n",
    "feature_cols = ['rank', 'subscribers', 'video views', 'category', 'uploads',\n",
    "       'Country', 'video_views_rank', 'video_views_for_the_last_30_days',\n",
    "       'lowest_monthly_earnings', 'highest_monthly_earnings',\n",
    "       'lowest_yearly_earnings', 'highest_yearly_earnings', 'Population', 'Urban_population']\n",
    "X = df[feature_cols]\n",
    "y = df.subscribers_for_last_30_days\n",
    "X_train, X_test, y_train, y_test = train_test_split(X, y, test_size=0.2,random_state=42)\n",
    "model1 = SVC() \n",
    "model2 = DecisionTreeClassifier()\n",
    "model3 = RandomForestClassifier()\n",
    "model1.fit(X_train, y_train) \n",
    "model2.fit(X_train, y_train)\n",
    "model3.fit(X_train, y_train)\n",
    "pred1 = model1.predict(X_test) \n",
    "pred2 = model2.predict(X_test)\n",
    "pred3 = model3.predict(X_test)\n",
    "blending_model = SVC() \n",
    "blending_model.fit(np.column_stack((pred1, pred2, pred3)), y_test)\n",
    "accuracy = blending_model.score(np.column_stack((pred1, pred2, pred3)), y_test)\n",
    "print(\"Blending Model Accuracy:\",accuracy)"
   ]
  },
  {
   "cell_type": "code",
   "execution_count": 29,
   "id": "61a33e0a",
   "metadata": {},
   "outputs": [
    {
     "name": "stdout",
     "output_type": "stream",
     "text": [
      "Blending Model Accuracy: 0.7117679670694593\n"
     ]
    }
   ],
   "source": [
    "from sklearn.linear_model import Ridge\n",
    "from sklearn.model_selection import train_test_split\n",
    "from sklearn.svm import SVC\n",
    "from sklearn.tree import DecisionTreeClassifier\n",
    "from sklearn.ensemble import RandomForestClassifier\n",
    "import pandas as pd\n",
    "import numpy as np\n",
    "import warnings\n",
    "warnings.filterwarnings('ignore')\n",
    "feature_cols = ['rank', 'subscribers', 'video views', 'category', 'uploads',\n",
    "       'Country', 'video_views_rank', 'video_views_for_the_last_30_days',\n",
    "       'lowest_monthly_earnings', 'highest_monthly_earnings',\n",
    "       'lowest_yearly_earnings', 'highest_yearly_earnings', 'Population', 'Urban_population']\n",
    "X = df[feature_cols]\n",
    "y = df.subscribers_for_last_30_days\n",
    "X_train, X_test, y_train, y_test = train_test_split(X, y, test_size=0.2,random_state=0)\n",
    "model1 = SVC() \n",
    "model2 = DecisionTreeClassifier()\n",
    "model3 = RandomForestClassifier()\n",
    "model1.fit(X_train, y_train) \n",
    "model2.fit(X_train, y_train)\n",
    "model3.fit(X_train, y_train)\n",
    "pred1 = model1.predict(X_test) \n",
    "pred2 = model2.predict(X_test)\n",
    "pred3 = model3.predict(X_test)\n",
    "blending_model = Ridge() \n",
    "blending_model.fit(np.column_stack((pred1, pred2, pred3)), y_test)\n",
    "accuracy = blending_model.score(np.column_stack((pred1, pred2, pred3)), y_test)\n",
    "print(\"Blending Model Accuracy:\",accuracy)"
   ]
  },
  {
   "cell_type": "markdown",
   "id": "66bbb70b",
   "metadata": {},
   "source": [
    "Naive baye's"
   ]
  },
  {
   "cell_type": "code",
   "execution_count": 30,
   "id": "2c8d9a09",
   "metadata": {},
   "outputs": [
    {
     "name": "stdout",
     "output_type": "stream",
     "text": [
      "Accuracy : 0.4482412060301508\n"
     ]
    }
   ],
   "source": [
    "from sklearn.naive_bayes import GaussianNB\n",
    "X_train, X_test, y_train, y_test = train_test_split(X, y,random_state=42)\n",
    "clf = GaussianNB()\n",
    "clf.fit(X, y)\n",
    "acc =clf.score(X,y)\n",
    "print(f\"Accuracy : {acc}\")"
   ]
  },
  {
   "cell_type": "markdown",
   "id": "a6990483",
   "metadata": {},
   "source": [
    "Decision Tree Regression"
   ]
  },
  {
   "cell_type": "code",
   "execution_count": 31,
   "id": "59e0163a",
   "metadata": {},
   "outputs": [
    {
     "name": "stdout",
     "output_type": "stream",
     "text": [
      "Blending Model Accuracy: 0.2598346452476198\n"
     ]
    }
   ],
   "source": [
    "from sklearn.tree import DecisionTreeRegressor\n",
    "from sklearn.model_selection import train_test_split\n",
    "from sklearn.linear_model import LogisticRegression\n",
    "from sklearn.tree import DecisionTreeClassifier\n",
    "from sklearn.ensemble import RandomForestClassifier\n",
    "import pandas as pd\n",
    "import numpy as np\n",
    "import warnings\n",
    "warnings.filterwarnings('ignore')\n",
    "feature_cols = ['uploads','subscribers','category']\n",
    "X = df[feature_cols]\n",
    "y = df.subscribers_for_last_30_days\n",
    "X_train, X_test, y_train, y_test = train_test_split(X, y, test_size=0.2,random_state=42)\n",
    "model1 = LogisticRegression() \n",
    "model2 = DecisionTreeClassifier()\n",
    "model3 = RandomForestClassifier()\n",
    "model1.fit(X_train, y_train) \n",
    "model2.fit(X_train, y_train)\n",
    "model3.fit(X_train, y_train)\n",
    "pred1 = model1.predict(X_test) \n",
    "pred2 = model2.predict(X_test)\n",
    "pred3 = model3.predict(X_test)\n",
    "blending_model = DecisionTreeRegressor() \n",
    "blending_model.fit(np.column_stack((pred1, pred2, pred3)), y_test)\n",
    "accuracy = blending_model.score(np.column_stack((pred1, pred2, pred3)), y_test)\n",
    "print(\"Blending Model Accuracy:\",accuracy)"
   ]
  },
  {
   "cell_type": "markdown",
   "id": "03fd3cc6",
   "metadata": {},
   "source": [
    "Scaling"
   ]
  },
  {
   "cell_type": "code",
   "execution_count": 32,
   "id": "09081145",
   "metadata": {},
   "outputs": [],
   "source": [
    "from sklearn.preprocessing import StandardScaler\n",
    "scaler = StandardScaler()\n",
    "df['uploads'] = scaler.fit_transform(df[['uploads']])\n",
    "df['subscribers'] = scaler.fit_transform(df[['subscribers']])\n",
    "df['video views'] = scaler.fit_transform(df[['video views']])\n",
    "df['category'] = scaler.fit_transform(df[['category']])\n",
    "df['Country'] = scaler.fit_transform(df[['Country']])\n",
    "df['video_views_rank'] = scaler.fit_transform(df[['video_views_rank']])"
   ]
  },
  {
   "cell_type": "code",
   "execution_count": 33,
   "id": "e8ebb803",
   "metadata": {},
   "outputs": [
    {
     "data": {
      "text/plain": [
       "rank                                  int64\n",
       "Youtuber                             object\n",
       "subscribers                         float64\n",
       "video views                         float64\n",
       "category                            float64\n",
       "uploads                             float64\n",
       "Country                             float64\n",
       "video_views_rank                    float64\n",
       "video_views_for_the_last_30_days    float64\n",
       "lowest_monthly_earnings             float64\n",
       "highest_monthly_earnings            float64\n",
       "lowest_yearly_earnings              float64\n",
       "highest_yearly_earnings             float64\n",
       "subscribers_for_last_30_days        float64\n",
       "Population                          float64\n",
       "Urban_population                    float64\n",
       "dtype: object"
      ]
     },
     "execution_count": 33,
     "metadata": {},
     "output_type": "execute_result"
    }
   ],
   "source": [
    "df.head()\n",
    "df.dtypes\n"
   ]
  },
  {
   "cell_type": "code",
   "execution_count": 34,
   "id": "20abe733",
   "metadata": {},
   "outputs": [
    {
     "name": "stdout",
     "output_type": "stream",
     "text": [
      "Blending Model Accuracy: 0.6733668341708543\n"
     ]
    }
   ],
   "source": [
    "from sklearn.model_selection import train_test_split\n",
    "from sklearn.svm import SVC\n",
    "from sklearn.tree import DecisionTreeClassifier\n",
    "from sklearn.ensemble import RandomForestClassifier\n",
    "import pandas as pd\n",
    "import numpy as np\n",
    "import warnings\n",
    "warnings.filterwarnings('ignore')\n",
    "feature_cols = ['rank', 'subscribers', 'video views', 'category', 'uploads',\n",
    "       'Country', 'video_views_rank', 'video_views_for_the_last_30_days',\n",
    "       'lowest_monthly_earnings', 'highest_monthly_earnings',\n",
    "       'lowest_yearly_earnings', 'highest_yearly_earnings', 'Population', 'Urban_population']\n",
    "X = df[feature_cols]\n",
    "y = df.subscribers_for_last_30_days\n",
    "X_train, X_test, y_train, y_test = train_test_split(X, y, test_size=0.2,random_state=42)\n",
    "model1 = SVC() \n",
    "model2 = DecisionTreeClassifier()\n",
    "model3 = RandomForestClassifier()\n",
    "model1.fit(X_train, y_train) \n",
    "model2.fit(X_train, y_train)\n",
    "model3.fit(X_train, y_train)\n",
    "pred1 = model1.predict(X_test) \n",
    "pred2 = model2.predict(X_test)\n",
    "pred3 = model3.predict(X_test)\n",
    "blending_model = SVC() \n",
    "blending_model.fit(np.column_stack((pred1, pred2, pred3)), y_test)\n",
    "accuracy = blending_model.score(np.column_stack((pred1, pred2, pred3)), y_test)\n",
    "print(\"Blending Model Accuracy:\",accuracy)"
   ]
  },
  {
   "cell_type": "code",
   "execution_count": 35,
   "id": "b922951c",
   "metadata": {},
   "outputs": [
    {
     "name": "stdout",
     "output_type": "stream",
     "text": [
      "Blending Model Accuracy: 0.6582914572864321\n"
     ]
    }
   ],
   "source": [
    "from sklearn.model_selection import train_test_split\n",
    "from sklearn.svm import SVC\n",
    "from sklearn.tree import DecisionTreeClassifier\n",
    "from sklearn.ensemble import RandomForestClassifier\n",
    "import pandas as pd\n",
    "import numpy as np\n",
    "import warnings\n",
    "warnings.filterwarnings('ignore')\n",
    "feature_cols = ['rank', 'subscribers', 'video views', 'category', 'uploads',\n",
    "       'Country', 'video_views_rank', 'video_views_for_the_last_30_days',\n",
    "       'lowest_monthly_earnings', 'highest_monthly_earnings',\n",
    "       'lowest_yearly_earnings', 'highest_yearly_earnings', 'Population', 'Urban_population']\n",
    "X = df[feature_cols]\n",
    "y = df.subscribers_for_last_30_days\n",
    "X_train, X_test, y_train, y_test = train_test_split(X, y, test_size=0.2,random_state=42)\n",
    "model1 = SVC() \n",
    "model2 = DecisionTreeClassifier()\n",
    "model3 = RandomForestClassifier()\n",
    "model1.fit(X_train, y_train) \n",
    "model2.fit(X_train, y_train)\n",
    "model3.fit(X_train, y_train)\n",
    "pred1 = model1.predict(X_test) \n",
    "pred2 = model2.predict(X_test)\n",
    "pred3 = model3.predict(X_test)\n",
    "blending_model = SVC() \n",
    "blending_model.fit(np.column_stack((pred1, pred2, pred3)), y_test)\n",
    "accuracy = blending_model.score(np.column_stack((pred1, pred2, pred3)), y_test)\n",
    "print(\"Blending Model Accuracy:\",accuracy)"
   ]
  },
  {
   "cell_type": "code",
   "execution_count": 36,
   "id": "261f59f3",
   "metadata": {},
   "outputs": [
    {
     "name": "stdout",
     "output_type": "stream",
     "text": [
      "Blending Model Accuracy: 0.8492462311557789\n"
     ]
    }
   ],
   "source": [
    "from sklearn.model_selection import train_test_split\n",
    "from sklearn.linear_model import LogisticRegression\n",
    "from sklearn.tree import DecisionTreeClassifier\n",
    "from sklearn.ensemble import RandomForestClassifier\n",
    "import pandas as pd\n",
    "import numpy as np\n",
    "import warnings\n",
    "warnings.filterwarnings('ignore')\n",
    "feature_cols = ['rank', 'subscribers', 'video views', 'category', 'uploads',\n",
    "       'Country', 'video_views_rank', 'video_views_for_the_last_30_days',\n",
    "       'lowest_monthly_earnings', 'highest_monthly_earnings',\n",
    "       'lowest_yearly_earnings', 'highest_yearly_earnings', 'Population', 'Urban_population']\n",
    "X = df[feature_cols]\n",
    "y = df.subscribers_for_last_30_days\n",
    "X_train, X_test, y_train, y_test = train_test_split(X, y, test_size=0.2,random_state=42)\n",
    "model1 = LogisticRegression() \n",
    "model2 = DecisionTreeClassifier()\n",
    "model3 = RandomForestClassifier()\n",
    "model1.fit(X_train, y_train) \n",
    "model2.fit(X_train, y_train)\n",
    "model3.fit(X_train, y_train)\n",
    "pred1 = model1.predict(X_test) \n",
    "pred2 = model2.predict(X_test)\n",
    "pred3 = model3.predict(X_test)\n",
    "blending_model = DecisionTreeClassifier()\n",
    "blending_model.fit(np.column_stack((pred1, pred2, pred3)), y_test)\n",
    "accuracy = blending_model.score(np.column_stack((pred1, pred2, pred3)), y_test)\n",
    "print(\"Blending Model Accuracy:\",accuracy)"
   ]
  },
  {
   "cell_type": "code",
   "execution_count": 37,
   "id": "e91a94e4",
   "metadata": {},
   "outputs": [
    {
     "name": "stdout",
     "output_type": "stream",
     "text": [
      "Blending Model Accuracy: 0.864321608040201\n"
     ]
    }
   ],
   "source": [
    "from sklearn.model_selection import train_test_split\n",
    "from sklearn.linear_model import LogisticRegression\n",
    "from sklearn.tree import DecisionTreeClassifier\n",
    "from sklearn.ensemble import RandomForestClassifier\n",
    "import pandas as pd\n",
    "import numpy as np\n",
    "import warnings\n",
    "warnings.filterwarnings('ignore')\n",
    "feature_cols = ['rank', 'subscribers', 'video views', 'category', 'uploads',\n",
    "       'Country', 'video_views_rank', 'video_views_for_the_last_30_days',\n",
    "       'lowest_monthly_earnings', 'highest_monthly_earnings',\n",
    "       'lowest_yearly_earnings', 'highest_yearly_earnings', 'Population', 'Urban_population']\n",
    "X = df[feature_cols]\n",
    "y = df.subscribers_for_last_30_days\n",
    "X_train, X_test, y_train, y_test = train_test_split(X, y, test_size=0.2,random_state=42)\n",
    "model1 = LogisticRegression() \n",
    "model2 = DecisionTreeClassifier()\n",
    "model3 = RandomForestClassifier()\n",
    "model1.fit(X_train, y_train) \n",
    "model2.fit(X_train, y_train)\n",
    "model3.fit(X_train, y_train)\n",
    "pred1 = model1.predict(X_test) \n",
    "pred2 = model2.predict(X_test)\n",
    "pred3 = model3.predict(X_test)\n",
    "blending_model = RandomForestClassifier()\n",
    "blending_model.fit(np.column_stack((pred1, pred2, pred3)), y_test)\n",
    "accuracy = blending_model.score(np.column_stack((pred1, pred2, pred3)), y_test)\n",
    "print(\"Blending Model Accuracy:\",accuracy)"
   ]
  },
  {
   "cell_type": "code",
   "execution_count": 38,
   "id": "c1703ab2",
   "metadata": {},
   "outputs": [
    {
     "data": {
      "text/plain": [
       "(995, 16)"
      ]
     },
     "execution_count": 38,
     "metadata": {},
     "output_type": "execute_result"
    }
   ],
   "source": [
    "df.shape"
   ]
  },
  {
   "cell_type": "code",
   "execution_count": 39,
   "id": "79988668",
   "metadata": {},
   "outputs": [
    {
     "name": "stdout",
     "output_type": "stream",
     "text": [
      "Accuracy : 0.5276381909547738\n"
     ]
    }
   ],
   "source": [
    "from sklearn.naive_bayes import GaussianNB\n",
    "X_train, X_test, y_train, y_test = train_test_split(X, y,random_state=42)\n",
    "clf = GaussianNB()\n",
    "clf.fit(X, y)\n",
    "acc =clf.score(X,y)\n",
    "print(f\"Accuracy : {acc}\")"
   ]
  },
  {
   "cell_type": "code",
   "execution_count": 40,
   "id": "0fc21a47",
   "metadata": {},
   "outputs": [
    {
     "data": {
      "text/html": [
       "<style>#sk-container-id-2 {color: black;background-color: white;}#sk-container-id-2 pre{padding: 0;}#sk-container-id-2 div.sk-toggleable {background-color: white;}#sk-container-id-2 label.sk-toggleable__label {cursor: pointer;display: block;width: 100%;margin-bottom: 0;padding: 0.3em;box-sizing: border-box;text-align: center;}#sk-container-id-2 label.sk-toggleable__label-arrow:before {content: \"▸\";float: left;margin-right: 0.25em;color: #696969;}#sk-container-id-2 label.sk-toggleable__label-arrow:hover:before {color: black;}#sk-container-id-2 div.sk-estimator:hover label.sk-toggleable__label-arrow:before {color: black;}#sk-container-id-2 div.sk-toggleable__content {max-height: 0;max-width: 0;overflow: hidden;text-align: left;background-color: #f0f8ff;}#sk-container-id-2 div.sk-toggleable__content pre {margin: 0.2em;color: black;border-radius: 0.25em;background-color: #f0f8ff;}#sk-container-id-2 input.sk-toggleable__control:checked~div.sk-toggleable__content {max-height: 200px;max-width: 100%;overflow: auto;}#sk-container-id-2 input.sk-toggleable__control:checked~label.sk-toggleable__label-arrow:before {content: \"▾\";}#sk-container-id-2 div.sk-estimator input.sk-toggleable__control:checked~label.sk-toggleable__label {background-color: #d4ebff;}#sk-container-id-2 div.sk-label input.sk-toggleable__control:checked~label.sk-toggleable__label {background-color: #d4ebff;}#sk-container-id-2 input.sk-hidden--visually {border: 0;clip: rect(1px 1px 1px 1px);clip: rect(1px, 1px, 1px, 1px);height: 1px;margin: -1px;overflow: hidden;padding: 0;position: absolute;width: 1px;}#sk-container-id-2 div.sk-estimator {font-family: monospace;background-color: #f0f8ff;border: 1px dotted black;border-radius: 0.25em;box-sizing: border-box;margin-bottom: 0.5em;}#sk-container-id-2 div.sk-estimator:hover {background-color: #d4ebff;}#sk-container-id-2 div.sk-parallel-item::after {content: \"\";width: 100%;border-bottom: 1px solid gray;flex-grow: 1;}#sk-container-id-2 div.sk-label:hover label.sk-toggleable__label {background-color: #d4ebff;}#sk-container-id-2 div.sk-serial::before {content: \"\";position: absolute;border-left: 1px solid gray;box-sizing: border-box;top: 0;bottom: 0;left: 50%;z-index: 0;}#sk-container-id-2 div.sk-serial {display: flex;flex-direction: column;align-items: center;background-color: white;padding-right: 0.2em;padding-left: 0.2em;position: relative;}#sk-container-id-2 div.sk-item {position: relative;z-index: 1;}#sk-container-id-2 div.sk-parallel {display: flex;align-items: stretch;justify-content: center;background-color: white;position: relative;}#sk-container-id-2 div.sk-item::before, #sk-container-id-2 div.sk-parallel-item::before {content: \"\";position: absolute;border-left: 1px solid gray;box-sizing: border-box;top: 0;bottom: 0;left: 50%;z-index: -1;}#sk-container-id-2 div.sk-parallel-item {display: flex;flex-direction: column;z-index: 1;position: relative;background-color: white;}#sk-container-id-2 div.sk-parallel-item:first-child::after {align-self: flex-end;width: 50%;}#sk-container-id-2 div.sk-parallel-item:last-child::after {align-self: flex-start;width: 50%;}#sk-container-id-2 div.sk-parallel-item:only-child::after {width: 0;}#sk-container-id-2 div.sk-dashed-wrapped {border: 1px dashed gray;margin: 0 0.4em 0.5em 0.4em;box-sizing: border-box;padding-bottom: 0.4em;background-color: white;}#sk-container-id-2 div.sk-label label {font-family: monospace;font-weight: bold;display: inline-block;line-height: 1.2em;}#sk-container-id-2 div.sk-label-container {text-align: center;}#sk-container-id-2 div.sk-container {/* jupyter's `normalize.less` sets `[hidden] { display: none; }` but bootstrap.min.css set `[hidden] { display: none !important; }` so we also need the `!important` here to be able to override the default hidden behavior on the sphinx rendered scikit-learn.org. See: https://github.com/scikit-learn/scikit-learn/issues/21755 */display: inline-block !important;position: relative;}#sk-container-id-2 div.sk-text-repr-fallback {display: none;}</style><div id=\"sk-container-id-2\" class=\"sk-top-container\"><div class=\"sk-text-repr-fallback\"><pre>Lasso()</pre><b>In a Jupyter environment, please rerun this cell to show the HTML representation or trust the notebook. <br />On GitHub, the HTML representation is unable to render, please try loading this page with nbviewer.org.</b></div><div class=\"sk-container\" hidden><div class=\"sk-item\"><div class=\"sk-estimator sk-toggleable\"><input class=\"sk-toggleable__control sk-hidden--visually\" id=\"sk-estimator-id-2\" type=\"checkbox\" checked><label for=\"sk-estimator-id-2\" class=\"sk-toggleable__label sk-toggleable__label-arrow\">Lasso</label><div class=\"sk-toggleable__content\"><pre>Lasso()</pre></div></div></div></div></div>"
      ],
      "text/plain": [
       "Lasso()"
      ]
     },
     "execution_count": 40,
     "metadata": {},
     "output_type": "execute_result"
    }
   ],
   "source": [
    "from sklearn.linear_model import Lasso\n",
    "model= Lasso()\n",
    "model.fit(df[['uploads','category']],df['subscribers'])"
   ]
  },
  {
   "cell_type": "code",
   "execution_count": 41,
   "id": "6f67ec36",
   "metadata": {},
   "outputs": [
    {
     "data": {
      "text/plain": [
       "array([-2.85645321e-17])"
      ]
     },
     "execution_count": 41,
     "metadata": {},
     "output_type": "execute_result"
    }
   ],
   "source": [
    "model.predict([[0.315143,0]])"
   ]
  },
  {
   "cell_type": "code",
   "execution_count": 42,
   "id": "acd42786",
   "metadata": {},
   "outputs": [
    {
     "data": {
      "text/html": [
       "<style>#sk-container-id-3 {color: black;background-color: white;}#sk-container-id-3 pre{padding: 0;}#sk-container-id-3 div.sk-toggleable {background-color: white;}#sk-container-id-3 label.sk-toggleable__label {cursor: pointer;display: block;width: 100%;margin-bottom: 0;padding: 0.3em;box-sizing: border-box;text-align: center;}#sk-container-id-3 label.sk-toggleable__label-arrow:before {content: \"▸\";float: left;margin-right: 0.25em;color: #696969;}#sk-container-id-3 label.sk-toggleable__label-arrow:hover:before {color: black;}#sk-container-id-3 div.sk-estimator:hover label.sk-toggleable__label-arrow:before {color: black;}#sk-container-id-3 div.sk-toggleable__content {max-height: 0;max-width: 0;overflow: hidden;text-align: left;background-color: #f0f8ff;}#sk-container-id-3 div.sk-toggleable__content pre {margin: 0.2em;color: black;border-radius: 0.25em;background-color: #f0f8ff;}#sk-container-id-3 input.sk-toggleable__control:checked~div.sk-toggleable__content {max-height: 200px;max-width: 100%;overflow: auto;}#sk-container-id-3 input.sk-toggleable__control:checked~label.sk-toggleable__label-arrow:before {content: \"▾\";}#sk-container-id-3 div.sk-estimator input.sk-toggleable__control:checked~label.sk-toggleable__label {background-color: #d4ebff;}#sk-container-id-3 div.sk-label input.sk-toggleable__control:checked~label.sk-toggleable__label {background-color: #d4ebff;}#sk-container-id-3 input.sk-hidden--visually {border: 0;clip: rect(1px 1px 1px 1px);clip: rect(1px, 1px, 1px, 1px);height: 1px;margin: -1px;overflow: hidden;padding: 0;position: absolute;width: 1px;}#sk-container-id-3 div.sk-estimator {font-family: monospace;background-color: #f0f8ff;border: 1px dotted black;border-radius: 0.25em;box-sizing: border-box;margin-bottom: 0.5em;}#sk-container-id-3 div.sk-estimator:hover {background-color: #d4ebff;}#sk-container-id-3 div.sk-parallel-item::after {content: \"\";width: 100%;border-bottom: 1px solid gray;flex-grow: 1;}#sk-container-id-3 div.sk-label:hover label.sk-toggleable__label {background-color: #d4ebff;}#sk-container-id-3 div.sk-serial::before {content: \"\";position: absolute;border-left: 1px solid gray;box-sizing: border-box;top: 0;bottom: 0;left: 50%;z-index: 0;}#sk-container-id-3 div.sk-serial {display: flex;flex-direction: column;align-items: center;background-color: white;padding-right: 0.2em;padding-left: 0.2em;position: relative;}#sk-container-id-3 div.sk-item {position: relative;z-index: 1;}#sk-container-id-3 div.sk-parallel {display: flex;align-items: stretch;justify-content: center;background-color: white;position: relative;}#sk-container-id-3 div.sk-item::before, #sk-container-id-3 div.sk-parallel-item::before {content: \"\";position: absolute;border-left: 1px solid gray;box-sizing: border-box;top: 0;bottom: 0;left: 50%;z-index: -1;}#sk-container-id-3 div.sk-parallel-item {display: flex;flex-direction: column;z-index: 1;position: relative;background-color: white;}#sk-container-id-3 div.sk-parallel-item:first-child::after {align-self: flex-end;width: 50%;}#sk-container-id-3 div.sk-parallel-item:last-child::after {align-self: flex-start;width: 50%;}#sk-container-id-3 div.sk-parallel-item:only-child::after {width: 0;}#sk-container-id-3 div.sk-dashed-wrapped {border: 1px dashed gray;margin: 0 0.4em 0.5em 0.4em;box-sizing: border-box;padding-bottom: 0.4em;background-color: white;}#sk-container-id-3 div.sk-label label {font-family: monospace;font-weight: bold;display: inline-block;line-height: 1.2em;}#sk-container-id-3 div.sk-label-container {text-align: center;}#sk-container-id-3 div.sk-container {/* jupyter's `normalize.less` sets `[hidden] { display: none; }` but bootstrap.min.css set `[hidden] { display: none !important; }` so we also need the `!important` here to be able to override the default hidden behavior on the sphinx rendered scikit-learn.org. See: https://github.com/scikit-learn/scikit-learn/issues/21755 */display: inline-block !important;position: relative;}#sk-container-id-3 div.sk-text-repr-fallback {display: none;}</style><div id=\"sk-container-id-3\" class=\"sk-top-container\"><div class=\"sk-text-repr-fallback\"><pre>Lasso()</pre><b>In a Jupyter environment, please rerun this cell to show the HTML representation or trust the notebook. <br />On GitHub, the HTML representation is unable to render, please try loading this page with nbviewer.org.</b></div><div class=\"sk-container\" hidden><div class=\"sk-item\"><div class=\"sk-estimator sk-toggleable\"><input class=\"sk-toggleable__control sk-hidden--visually\" id=\"sk-estimator-id-3\" type=\"checkbox\" checked><label for=\"sk-estimator-id-3\" class=\"sk-toggleable__label sk-toggleable__label-arrow\">Lasso</label><div class=\"sk-toggleable__content\"><pre>Lasso()</pre></div></div></div></div></div>"
      ],
      "text/plain": [
       "Lasso()"
      ]
     },
     "execution_count": 42,
     "metadata": {},
     "output_type": "execute_result"
    }
   ],
   "source": [
    "from sklearn.linear_model import Ridge\n",
    "model= Lasso()\n",
    "model.fit(df[['subscribers','video views','category','uploads','Country','video_views_rank','subscribers_for_last_30_days']],df['highest_monthly_earnings'])"
   ]
  },
  {
   "cell_type": "code",
   "execution_count": 43,
   "id": "5b2432b2",
   "metadata": {
    "scrolled": true
   },
   "outputs": [
    {
     "data": {
      "text/html": [
       "<div>\n",
       "<style scoped>\n",
       "    .dataframe tbody tr th:only-of-type {\n",
       "        vertical-align: middle;\n",
       "    }\n",
       "\n",
       "    .dataframe tbody tr th {\n",
       "        vertical-align: top;\n",
       "    }\n",
       "\n",
       "    .dataframe thead th {\n",
       "        text-align: right;\n",
       "    }\n",
       "</style>\n",
       "<table border=\"1\" class=\"dataframe\">\n",
       "  <thead>\n",
       "    <tr style=\"text-align: right;\">\n",
       "      <th></th>\n",
       "      <th>rank</th>\n",
       "      <th>Youtuber</th>\n",
       "      <th>subscribers</th>\n",
       "      <th>video views</th>\n",
       "      <th>category</th>\n",
       "      <th>uploads</th>\n",
       "      <th>Country</th>\n",
       "      <th>video_views_rank</th>\n",
       "      <th>video_views_for_the_last_30_days</th>\n",
       "      <th>lowest_monthly_earnings</th>\n",
       "      <th>highest_monthly_earnings</th>\n",
       "      <th>lowest_yearly_earnings</th>\n",
       "      <th>highest_yearly_earnings</th>\n",
       "      <th>subscribers_for_last_30_days</th>\n",
       "      <th>Population</th>\n",
       "      <th>Urban_population</th>\n",
       "    </tr>\n",
       "  </thead>\n",
       "  <tbody>\n",
       "    <tr>\n",
       "      <th>0</th>\n",
       "      <td>1</td>\n",
       "      <td>T-Series</td>\n",
       "      <td>12.674193</td>\n",
       "      <td>15.383174</td>\n",
       "      <td>0.315143</td>\n",
       "      <td>0.319178</td>\n",
       "      <td>-0.994593</td>\n",
       "      <td>-0.406671</td>\n",
       "      <td>2.258000e+09</td>\n",
       "      <td>564600.0</td>\n",
       "      <td>9000000.00</td>\n",
       "      <td>6800000.00</td>\n",
       "      <td>1.084000e+08</td>\n",
       "      <td>2000000.0</td>\n",
       "      <td>1.366418e+09</td>\n",
       "      <td>471031528.0</td>\n",
       "    </tr>\n",
       "    <tr>\n",
       "      <th>1</th>\n",
       "      <td>2</td>\n",
       "      <td>YouTube Movies</td>\n",
       "      <td>8.392710</td>\n",
       "      <td>-0.782738</td>\n",
       "      <td>-0.610517</td>\n",
       "      <td>-0.269118</td>\n",
       "      <td>0.867845</td>\n",
       "      <td>2.571724</td>\n",
       "      <td>1.200000e+01</td>\n",
       "      <td>0.0</td>\n",
       "      <td>0.05</td>\n",
       "      <td>0.04</td>\n",
       "      <td>5.800000e-01</td>\n",
       "      <td>100000.0</td>\n",
       "      <td>3.282395e+08</td>\n",
       "      <td>270663028.0</td>\n",
       "    </tr>\n",
       "    <tr>\n",
       "      <th>2</th>\n",
       "      <td>3</td>\n",
       "      <td>MrBeast</td>\n",
       "      <td>8.164364</td>\n",
       "      <td>1.228702</td>\n",
       "      <td>-0.841932</td>\n",
       "      <td>-0.247439</td>\n",
       "      <td>0.867845</td>\n",
       "      <td>-0.406636</td>\n",
       "      <td>1.348000e+09</td>\n",
       "      <td>337000.0</td>\n",
       "      <td>5400000.00</td>\n",
       "      <td>4000000.00</td>\n",
       "      <td>6.470000e+07</td>\n",
       "      <td>8000000.0</td>\n",
       "      <td>3.282395e+08</td>\n",
       "      <td>270663028.0</td>\n",
       "    </tr>\n",
       "    <tr>\n",
       "      <th>3</th>\n",
       "      <td>4</td>\n",
       "      <td>Cocomelon - Nursery Rhymes</td>\n",
       "      <td>7.936019</td>\n",
       "      <td>10.845374</td>\n",
       "      <td>-1.073347</td>\n",
       "      <td>-0.240847</td>\n",
       "      <td>0.867845</td>\n",
       "      <td>-0.406670</td>\n",
       "      <td>1.975000e+09</td>\n",
       "      <td>493800.0</td>\n",
       "      <td>7900000.00</td>\n",
       "      <td>5900000.00</td>\n",
       "      <td>9.480000e+07</td>\n",
       "      <td>1000000.0</td>\n",
       "      <td>3.282395e+08</td>\n",
       "      <td>270663028.0</td>\n",
       "    </tr>\n",
       "    <tr>\n",
       "      <th>4</th>\n",
       "      <td>5</td>\n",
       "      <td>SET India</td>\n",
       "      <td>7.764759</td>\n",
       "      <td>9.710924</td>\n",
       "      <td>1.703633</td>\n",
       "      <td>3.144908</td>\n",
       "      <td>-0.994593</td>\n",
       "      <td>-0.406669</td>\n",
       "      <td>1.824000e+09</td>\n",
       "      <td>455900.0</td>\n",
       "      <td>7300000.00</td>\n",
       "      <td>5500000.00</td>\n",
       "      <td>8.750000e+07</td>\n",
       "      <td>1000000.0</td>\n",
       "      <td>1.366418e+09</td>\n",
       "      <td>471031528.0</td>\n",
       "    </tr>\n",
       "  </tbody>\n",
       "</table>\n",
       "</div>"
      ],
      "text/plain": [
       "   rank                    Youtuber  subscribers  video views  category  \\\n",
       "0     1                    T-Series    12.674193    15.383174  0.315143   \n",
       "1     2              YouTube Movies     8.392710    -0.782738 -0.610517   \n",
       "2     3                     MrBeast     8.164364     1.228702 -0.841932   \n",
       "3     4  Cocomelon - Nursery Rhymes     7.936019    10.845374 -1.073347   \n",
       "4     5                   SET India     7.764759     9.710924  1.703633   \n",
       "\n",
       "    uploads   Country  video_views_rank  video_views_for_the_last_30_days  \\\n",
       "0  0.319178 -0.994593         -0.406671                      2.258000e+09   \n",
       "1 -0.269118  0.867845          2.571724                      1.200000e+01   \n",
       "2 -0.247439  0.867845         -0.406636                      1.348000e+09   \n",
       "3 -0.240847  0.867845         -0.406670                      1.975000e+09   \n",
       "4  3.144908 -0.994593         -0.406669                      1.824000e+09   \n",
       "\n",
       "   lowest_monthly_earnings  highest_monthly_earnings  lowest_yearly_earnings  \\\n",
       "0                 564600.0                9000000.00              6800000.00   \n",
       "1                      0.0                      0.05                    0.04   \n",
       "2                 337000.0                5400000.00              4000000.00   \n",
       "3                 493800.0                7900000.00              5900000.00   \n",
       "4                 455900.0                7300000.00              5500000.00   \n",
       "\n",
       "   highest_yearly_earnings  subscribers_for_last_30_days    Population  \\\n",
       "0             1.084000e+08                     2000000.0  1.366418e+09   \n",
       "1             5.800000e-01                      100000.0  3.282395e+08   \n",
       "2             6.470000e+07                     8000000.0  3.282395e+08   \n",
       "3             9.480000e+07                     1000000.0  3.282395e+08   \n",
       "4             8.750000e+07                     1000000.0  1.366418e+09   \n",
       "\n",
       "   Urban_population  \n",
       "0       471031528.0  \n",
       "1       270663028.0  \n",
       "2       270663028.0  \n",
       "3       270663028.0  \n",
       "4       471031528.0  "
      ]
     },
     "execution_count": 43,
     "metadata": {},
     "output_type": "execute_result"
    }
   ],
   "source": [
    "df.head()"
   ]
  },
  {
   "cell_type": "code",
   "execution_count": 44,
   "id": "b5948aca",
   "metadata": {},
   "outputs": [
    {
     "data": {
      "text/plain": [
       "array([10105597.34251627])"
      ]
     },
     "execution_count": 44,
     "metadata": {},
     "output_type": "execute_result"
    }
   ],
   "source": [
    "model.predict([[12.674193,15.383174,0.315143,0.319178,-0.994593,-0.406671,2000000.0]])"
   ]
  },
  {
   "cell_type": "code",
   "execution_count": 45,
   "id": "2336af25",
   "metadata": {},
   "outputs": [
    {
     "data": {
      "text/plain": [
       "array([6739857.16530943])"
      ]
     },
     "execution_count": 45,
     "metadata": {},
     "output_type": "execute_result"
    }
   ],
   "source": [
    "model.predict([[7.936019,10.845374,-1.073347,-0.240847,0.867845,-0.406670,1000000.0]])"
   ]
  },
  {
   "cell_type": "code",
   "execution_count": 46,
   "id": "013e1d7b",
   "metadata": {},
   "outputs": [
    {
     "data": {
      "text/plain": [
       "array([6417051.72998208])"
      ]
     },
     "execution_count": 46,
     "metadata": {},
     "output_type": "execute_result"
    }
   ],
   "source": [
    "model.predict([[7.764759,9.710924,1.703633,3.144908,-0.994593,-0.406669,1000000.0]])"
   ]
  },
  {
   "cell_type": "code",
   "execution_count": 47,
   "id": "8ff18e85",
   "metadata": {},
   "outputs": [
    {
     "data": {
      "text/html": [
       "<div>\n",
       "<style scoped>\n",
       "    .dataframe tbody tr th:only-of-type {\n",
       "        vertical-align: middle;\n",
       "    }\n",
       "\n",
       "    .dataframe tbody tr th {\n",
       "        vertical-align: top;\n",
       "    }\n",
       "\n",
       "    .dataframe thead th {\n",
       "        text-align: right;\n",
       "    }\n",
       "</style>\n",
       "<table border=\"1\" class=\"dataframe\">\n",
       "  <thead>\n",
       "    <tr style=\"text-align: right;\">\n",
       "      <th></th>\n",
       "      <th>rank</th>\n",
       "      <th>Youtuber</th>\n",
       "      <th>subscribers</th>\n",
       "      <th>video views</th>\n",
       "      <th>category</th>\n",
       "      <th>uploads</th>\n",
       "      <th>Country</th>\n",
       "      <th>video_views_rank</th>\n",
       "      <th>video_views_for_the_last_30_days</th>\n",
       "      <th>lowest_monthly_earnings</th>\n",
       "      <th>highest_monthly_earnings</th>\n",
       "      <th>lowest_yearly_earnings</th>\n",
       "      <th>highest_yearly_earnings</th>\n",
       "      <th>subscribers_for_last_30_days</th>\n",
       "      <th>Population</th>\n",
       "      <th>Urban_population</th>\n",
       "    </tr>\n",
       "  </thead>\n",
       "  <tbody>\n",
       "    <tr>\n",
       "      <th>0</th>\n",
       "      <td>1</td>\n",
       "      <td>T-Series</td>\n",
       "      <td>12.674193</td>\n",
       "      <td>15.383174</td>\n",
       "      <td>8</td>\n",
       "      <td>0.319178</td>\n",
       "      <td>18</td>\n",
       "      <td>-0.406671</td>\n",
       "      <td>2.258000e+09</td>\n",
       "      <td>564600.0</td>\n",
       "      <td>9000000.00</td>\n",
       "      <td>6800000.00</td>\n",
       "      <td>1.084000e+08</td>\n",
       "      <td>2000000.0</td>\n",
       "      <td>1.366418e+09</td>\n",
       "      <td>471031528.0</td>\n",
       "    </tr>\n",
       "    <tr>\n",
       "      <th>1</th>\n",
       "      <td>2</td>\n",
       "      <td>YouTube Movies</td>\n",
       "      <td>8.392710</td>\n",
       "      <td>-0.782738</td>\n",
       "      <td>4</td>\n",
       "      <td>-0.269118</td>\n",
       "      <td>46</td>\n",
       "      <td>2.571724</td>\n",
       "      <td>1.200000e+01</td>\n",
       "      <td>0.0</td>\n",
       "      <td>0.05</td>\n",
       "      <td>0.04</td>\n",
       "      <td>5.800000e-01</td>\n",
       "      <td>100000.0</td>\n",
       "      <td>3.282395e+08</td>\n",
       "      <td>270663028.0</td>\n",
       "    </tr>\n",
       "    <tr>\n",
       "      <th>2</th>\n",
       "      <td>3</td>\n",
       "      <td>MrBeast</td>\n",
       "      <td>8.164364</td>\n",
       "      <td>1.228702</td>\n",
       "      <td>3</td>\n",
       "      <td>-0.247439</td>\n",
       "      <td>46</td>\n",
       "      <td>-0.406636</td>\n",
       "      <td>1.348000e+09</td>\n",
       "      <td>337000.0</td>\n",
       "      <td>5400000.00</td>\n",
       "      <td>4000000.00</td>\n",
       "      <td>6.470000e+07</td>\n",
       "      <td>8000000.0</td>\n",
       "      <td>3.282395e+08</td>\n",
       "      <td>270663028.0</td>\n",
       "    </tr>\n",
       "    <tr>\n",
       "      <th>3</th>\n",
       "      <td>4</td>\n",
       "      <td>Cocomelon - Nursery Rhymes</td>\n",
       "      <td>7.936019</td>\n",
       "      <td>10.845374</td>\n",
       "      <td>2</td>\n",
       "      <td>-0.240847</td>\n",
       "      <td>46</td>\n",
       "      <td>-0.406670</td>\n",
       "      <td>1.975000e+09</td>\n",
       "      <td>493800.0</td>\n",
       "      <td>7900000.00</td>\n",
       "      <td>5900000.00</td>\n",
       "      <td>9.480000e+07</td>\n",
       "      <td>1000000.0</td>\n",
       "      <td>3.282395e+08</td>\n",
       "      <td>270663028.0</td>\n",
       "    </tr>\n",
       "    <tr>\n",
       "      <th>4</th>\n",
       "      <td>5</td>\n",
       "      <td>SET India</td>\n",
       "      <td>7.764759</td>\n",
       "      <td>9.710924</td>\n",
       "      <td>14</td>\n",
       "      <td>3.144908</td>\n",
       "      <td>18</td>\n",
       "      <td>-0.406669</td>\n",
       "      <td>1.824000e+09</td>\n",
       "      <td>455900.0</td>\n",
       "      <td>7300000.00</td>\n",
       "      <td>5500000.00</td>\n",
       "      <td>8.750000e+07</td>\n",
       "      <td>1000000.0</td>\n",
       "      <td>1.366418e+09</td>\n",
       "      <td>471031528.0</td>\n",
       "    </tr>\n",
       "  </tbody>\n",
       "</table>\n",
       "</div>"
      ],
      "text/plain": [
       "   rank                    Youtuber  subscribers  video views  category  \\\n",
       "0     1                    T-Series    12.674193    15.383174         8   \n",
       "1     2              YouTube Movies     8.392710    -0.782738         4   \n",
       "2     3                     MrBeast     8.164364     1.228702         3   \n",
       "3     4  Cocomelon - Nursery Rhymes     7.936019    10.845374         2   \n",
       "4     5                   SET India     7.764759     9.710924        14   \n",
       "\n",
       "    uploads  Country  video_views_rank  video_views_for_the_last_30_days  \\\n",
       "0  0.319178       18         -0.406671                      2.258000e+09   \n",
       "1 -0.269118       46          2.571724                      1.200000e+01   \n",
       "2 -0.247439       46         -0.406636                      1.348000e+09   \n",
       "3 -0.240847       46         -0.406670                      1.975000e+09   \n",
       "4  3.144908       18         -0.406669                      1.824000e+09   \n",
       "\n",
       "   lowest_monthly_earnings  highest_monthly_earnings  lowest_yearly_earnings  \\\n",
       "0                 564600.0                9000000.00              6800000.00   \n",
       "1                      0.0                      0.05                    0.04   \n",
       "2                 337000.0                5400000.00              4000000.00   \n",
       "3                 493800.0                7900000.00              5900000.00   \n",
       "4                 455900.0                7300000.00              5500000.00   \n",
       "\n",
       "   highest_yearly_earnings  subscribers_for_last_30_days    Population  \\\n",
       "0             1.084000e+08                     2000000.0  1.366418e+09   \n",
       "1             5.800000e-01                      100000.0  3.282395e+08   \n",
       "2             6.470000e+07                     8000000.0  3.282395e+08   \n",
       "3             9.480000e+07                     1000000.0  3.282395e+08   \n",
       "4             8.750000e+07                     1000000.0  1.366418e+09   \n",
       "\n",
       "   Urban_population  \n",
       "0       471031528.0  \n",
       "1       270663028.0  \n",
       "2       270663028.0  \n",
       "3       270663028.0  \n",
       "4       471031528.0  "
      ]
     },
     "execution_count": 47,
     "metadata": {},
     "output_type": "execute_result"
    }
   ],
   "source": [
    "to_categorical=['category','Country'] \n",
    "from sklearn.preprocessing import LabelEncoder \n",
    "Lencoder=LabelEncoder() \n",
    "for label in to_categorical:\n",
    "    df[label]=Lencoder.fit_transform(df[label])\n",
    "df.head()"
   ]
  },
  {
   "cell_type": "code",
   "execution_count": 48,
   "id": "e200430a",
   "metadata": {},
   "outputs": [
    {
     "name": "stdout",
     "output_type": "stream",
     "text": [
      "Blending Model Accuracy: 0.6331658291457286\n"
     ]
    }
   ],
   "source": [
    "from sklearn.model_selection import train_test_split\n",
    "from sklearn.linear_model import LogisticRegression\n",
    "from sklearn.tree import DecisionTreeClassifier\n",
    "from sklearn.ensemble import RandomForestClassifier\n",
    "import pandas as pd\n",
    "import numpy as np\n",
    "import warnings\n",
    "warnings.filterwarnings('ignore')\n",
    "feature_cols = ['uploads','subscribers','category']\n",
    "X = df[feature_cols]\n",
    "y = df.subscribers_for_last_30_days\n",
    "X_train, X_test, y_train, y_test = train_test_split(X, y, test_size=0.2,random_state=42)\n",
    "model1 = LogisticRegression() \n",
    "model2 = DecisionTreeClassifier()\n",
    "model3 = RandomForestClassifier()\n",
    "model1.fit(X_train, y_train) \n",
    "model2.fit(X_train, y_train)\n",
    "model3.fit(X_train, y_train)\n",
    "pred1 = model1.predict(X_test) \n",
    "pred2 = model2.predict(X_test)\n",
    "pred3 = model3.predict(X_test)\n",
    "blending_model = RandomForestClassifier() \n",
    "blending_model.fit(np.column_stack((pred1, pred2, pred3)), y_test)\n",
    "accuracy = blending_model.score(np.column_stack((pred1, pred2, pred3)), y_test)\n",
    "print(\"Blending Model Accuracy:\",accuracy)\n"
   ]
  },
  {
   "cell_type": "code",
   "execution_count": 49,
   "id": "6882a400",
   "metadata": {},
   "outputs": [
    {
     "data": {
      "text/plain": [
       "array([100000., 100000., 100000., 100000., 100000., 100000., 100000.,\n",
       "       100000., 100000., 100000., 100000., 100000., 100000., 100000.,\n",
       "       100000., 100000., 100000., 100000., 100000., 100000., 100000.,\n",
       "       100000., 100000., 100000., 100000., 100000., 100000., 100000.,\n",
       "       100000., 100000., 100000., 100000., 100000., 100000., 100000.,\n",
       "       100000., 100000., 100000., 100000., 100000., 100000., 100000.,\n",
       "       100000., 100000., 100000., 100000., 100000., 100000., 100000.,\n",
       "       100000., 100000., 100000., 100000., 100000., 100000., 100000.,\n",
       "       100000., 100000., 100000., 100000., 100000., 100000., 100000.,\n",
       "       100000., 100000., 100000., 100000., 100000., 100000., 100000.,\n",
       "       100000., 100000., 100000., 100000., 100000., 100000., 100000.,\n",
       "       100000., 100000., 100000., 100000., 100000., 100000., 100000.,\n",
       "       100000., 100000., 100000., 100000., 100000., 100000., 100000.,\n",
       "       100000., 100000., 100000., 100000., 100000., 100000., 100000.,\n",
       "       100000., 100000., 100000., 100000., 100000., 100000., 100000.,\n",
       "       100000., 100000., 100000., 100000., 100000., 100000., 100000.,\n",
       "       100000., 100000., 100000., 100000., 100000., 100000., 100000.,\n",
       "       100000., 100000., 100000., 100000., 100000., 100000., 100000.,\n",
       "       100000., 100000., 100000., 100000., 100000., 100000., 100000.,\n",
       "       100000., 100000., 100000., 100000., 100000., 100000., 100000.,\n",
       "       100000., 100000., 100000., 100000., 100000., 100000., 100000.,\n",
       "       100000., 100000., 100000., 100000., 100000., 100000., 100000.,\n",
       "       100000., 100000., 100000., 100000., 100000., 100000., 100000.,\n",
       "       100000., 100000., 100000., 100000., 100000., 100000., 100000.,\n",
       "       100000., 100000., 100000., 100000., 100000., 100000., 100000.,\n",
       "       100000., 100000., 100000., 100000., 100000., 100000., 100000.,\n",
       "       100000., 100000., 100000., 100000., 100000., 100000., 100000.,\n",
       "       100000., 100000., 100000., 100000., 100000., 100000., 100000.,\n",
       "       100000., 100000., 100000., 100000., 100000., 100000., 100000.,\n",
       "       100000., 100000., 100000., 100000., 100000., 100000., 100000.,\n",
       "       100000., 100000., 100000., 100000., 100000., 100000., 100000.,\n",
       "       100000., 100000., 100000., 100000., 100000., 100000., 100000.,\n",
       "       100000., 100000., 100000., 100000., 100000., 100000., 100000.,\n",
       "       100000., 100000., 100000., 100000., 100000., 100000., 100000.,\n",
       "       100000., 100000., 100000., 100000., 100000., 100000., 100000.,\n",
       "       100000., 100000., 100000., 100000., 100000., 100000., 100000.,\n",
       "       100000., 100000., 100000., 100000., 100000., 100000., 100000.,\n",
       "       100000., 100000., 100000., 100000., 100000., 100000., 100000.,\n",
       "       100000., 100000., 100000., 100000., 100000., 100000., 100000.,\n",
       "       100000., 100000., 100000., 100000., 100000., 100000., 100000.,\n",
       "       100000., 100000., 100000., 100000., 100000., 100000., 100000.,\n",
       "       100000., 100000., 100000., 100000., 100000., 100000., 100000.,\n",
       "       100000., 100000., 100000., 100000., 100000., 100000., 100000.,\n",
       "       100000., 100000., 100000., 100000., 100000., 100000., 100000.,\n",
       "       100000., 100000., 100000., 100000., 100000., 100000., 100000.,\n",
       "       100000., 100000., 100000., 100000., 100000., 100000., 100000.,\n",
       "       100000., 100000., 100000., 100000., 100000., 100000., 100000.,\n",
       "       100000., 100000., 100000., 100000., 100000., 100000., 100000.,\n",
       "       100000., 100000., 100000., 100000., 100000., 100000., 100000.,\n",
       "       100000., 100000., 100000., 100000., 100000., 100000., 100000.,\n",
       "       100000., 100000., 100000., 100000., 100000., 100000., 100000.,\n",
       "       100000., 100000., 100000., 100000., 100000., 100000., 100000.,\n",
       "       100000., 100000., 100000., 100000., 100000., 100000., 100000.,\n",
       "       100000., 100000., 100000., 100000., 100000., 100000., 100000.,\n",
       "       100000., 100000., 100000., 100000., 100000., 100000., 100000.,\n",
       "       100000., 100000., 100000., 100000., 100000., 100000., 100000.,\n",
       "       100000., 100000., 100000., 100000., 100000., 100000., 100000.,\n",
       "       100000., 100000., 100000., 100000., 100000., 100000., 100000.,\n",
       "       100000., 100000., 100000., 100000., 100000., 100000., 100000.,\n",
       "       100000., 100000., 100000., 100000., 100000., 100000., 100000.,\n",
       "       100000., 100000., 100000., 100000., 100000., 100000., 100000.,\n",
       "       100000., 100000., 100000., 100000., 100000., 100000., 100000.,\n",
       "       100000., 100000., 100000., 100000., 100000., 100000., 100000.,\n",
       "       100000., 100000., 100000., 100000., 100000., 100000., 100000.,\n",
       "       100000., 100000., 100000., 100000., 100000., 100000., 100000.,\n",
       "       100000., 100000., 100000., 100000., 100000., 100000., 100000.,\n",
       "       100000., 100000., 100000., 100000., 100000., 100000., 100000.,\n",
       "       100000., 100000., 100000., 100000., 100000., 100000., 100000.,\n",
       "       100000., 100000., 100000., 100000., 100000., 100000., 100000.,\n",
       "       100000., 100000., 100000., 100000., 100000., 100000., 100000.,\n",
       "       100000., 100000., 100000., 100000., 100000., 100000., 100000.,\n",
       "       100000., 100000., 100000., 100000., 100000., 100000., 100000.,\n",
       "       100000., 100000., 100000., 100000., 100000., 100000., 100000.,\n",
       "       100000., 100000., 100000., 100000., 100000., 100000., 100000.,\n",
       "       100000., 100000., 100000., 100000., 100000., 100000., 100000.,\n",
       "       100000., 100000., 100000., 100000., 100000., 100000., 100000.,\n",
       "       100000., 100000., 100000., 100000., 100000., 100000., 100000.,\n",
       "       100000., 100000., 100000., 100000., 100000., 100000., 100000.,\n",
       "       100000., 100000., 100000., 100000., 100000., 100000., 100000.,\n",
       "       100000., 100000., 100000., 100000., 100000., 100000., 100000.,\n",
       "       100000., 100000., 100000., 100000., 100000., 100000., 100000.,\n",
       "       100000., 100000., 100000., 100000., 100000., 100000., 100000.,\n",
       "       100000., 100000., 100000., 100000., 100000., 100000., 100000.,\n",
       "       100000., 100000., 100000., 100000., 100000., 100000., 100000.,\n",
       "       100000., 100000., 100000., 100000., 100000., 100000., 100000.,\n",
       "       100000., 100000., 100000., 100000., 100000., 100000., 100000.,\n",
       "       100000., 100000., 100000., 100000., 100000., 100000., 100000.,\n",
       "       100000., 100000., 100000., 100000., 100000., 100000., 100000.,\n",
       "       100000., 100000., 100000., 100000., 100000., 100000., 100000.,\n",
       "       100000., 100000., 100000., 100000., 100000., 100000., 100000.,\n",
       "       100000., 100000., 100000., 100000., 100000., 100000., 100000.,\n",
       "       100000., 100000., 100000., 100000., 100000., 100000., 100000.,\n",
       "       100000., 100000., 100000., 100000., 100000., 100000., 100000.,\n",
       "       100000., 100000., 100000., 100000., 100000., 100000., 100000.,\n",
       "       100000., 100000., 100000., 100000., 100000., 100000., 100000.,\n",
       "       100000., 100000., 100000., 100000., 100000., 100000., 100000.,\n",
       "       100000., 100000., 100000., 100000., 100000., 100000., 100000.,\n",
       "       100000., 100000., 100000., 100000., 100000., 100000., 100000.,\n",
       "       100000., 100000., 100000., 100000., 100000., 100000., 100000.,\n",
       "       100000., 100000., 100000., 100000., 100000., 100000., 100000.,\n",
       "       100000., 100000., 100000., 100000., 100000., 100000., 100000.,\n",
       "       100000., 100000., 100000., 100000., 100000., 100000., 100000.,\n",
       "       100000., 100000., 100000., 100000., 100000., 100000., 100000.,\n",
       "       100000., 100000., 100000., 100000., 100000., 100000., 100000.,\n",
       "       100000., 100000., 100000., 100000., 100000., 100000., 100000.,\n",
       "       100000., 100000., 100000., 100000., 100000., 100000., 100000.,\n",
       "       100000., 100000., 100000., 100000., 100000., 100000., 100000.,\n",
       "       100000., 100000., 100000., 100000., 100000., 100000., 100000.,\n",
       "       100000., 100000., 100000., 100000., 100000., 100000., 100000.,\n",
       "       100000., 100000., 100000., 100000., 100000., 100000., 100000.,\n",
       "       100000., 100000., 100000., 100000., 100000., 100000., 100000.,\n",
       "       100000., 100000., 100000., 100000., 100000., 100000., 100000.,\n",
       "       100000., 100000., 100000., 100000., 100000., 100000., 100000.,\n",
       "       100000., 100000., 100000., 100000., 100000., 100000., 100000.,\n",
       "       100000., 100000., 100000., 100000., 100000., 100000., 100000.,\n",
       "       100000., 100000., 100000., 100000., 100000., 100000., 100000.,\n",
       "       100000., 100000., 100000., 100000., 100000., 100000., 100000.,\n",
       "       100000., 100000., 100000., 100000., 100000., 100000., 100000.,\n",
       "       100000., 100000., 100000., 100000., 100000., 100000., 100000.,\n",
       "       100000., 100000., 100000., 100000., 100000., 100000., 100000.,\n",
       "       100000., 100000., 100000., 100000., 100000., 100000., 100000.,\n",
       "       100000., 100000., 100000., 100000., 100000., 100000., 100000.,\n",
       "       100000., 100000., 100000., 100000., 100000., 100000., 100000.,\n",
       "       100000., 100000., 100000., 100000., 100000., 100000., 100000.,\n",
       "       100000., 100000., 100000., 100000., 100000., 100000., 100000.,\n",
       "       100000., 100000., 100000., 100000., 100000., 100000., 100000.,\n",
       "       100000., 100000., 100000., 100000., 100000., 100000., 100000.,\n",
       "       100000., 100000., 100000., 100000., 100000., 100000., 100000.,\n",
       "       100000., 100000., 100000., 100000., 100000., 100000., 100000.,\n",
       "       100000., 100000., 100000., 100000., 100000., 100000., 100000.,\n",
       "       100000., 100000., 100000., 100000., 100000., 100000., 100000.,\n",
       "       100000., 100000., 100000., 100000., 100000., 100000., 100000.,\n",
       "       100000., 100000., 100000., 100000., 100000., 100000., 100000.,\n",
       "       100000., 100000., 100000., 100000., 100000., 100000., 100000.,\n",
       "       100000., 100000., 100000., 100000., 100000., 100000., 100000.,\n",
       "       100000., 100000., 100000., 100000., 100000., 100000., 100000.,\n",
       "       100000., 100000., 100000., 100000., 100000., 100000., 100000.,\n",
       "       100000., 100000., 100000., 100000., 100000., 100000., 100000.,\n",
       "       100000., 100000., 100000., 100000., 100000., 100000., 100000.,\n",
       "       100000., 100000., 100000., 100000., 100000., 100000., 100000.,\n",
       "       100000., 100000., 100000., 100000., 100000., 100000., 100000.,\n",
       "       100000., 100000., 100000., 100000., 100000., 100000., 100000.,\n",
       "       100000.])"
      ]
     },
     "execution_count": 49,
     "metadata": {},
     "output_type": "execute_result"
    }
   ],
   "source": [
    "pred = blending_model.predict(X)\n",
    "pred"
   ]
  },
  {
   "cell_type": "code",
   "execution_count": 50,
   "id": "6e09e53c",
   "metadata": {},
   "outputs": [
    {
     "name": "stdout",
     "output_type": "stream",
     "text": [
      "Blending Model Accuracy: 0.3538919027185662\n"
     ]
    }
   ],
   "source": []
  },
  {
   "cell_type": "code",
   "execution_count": null,
   "id": "220a0bef",
   "metadata": {},
   "outputs": [],
   "source": []
  },
  {
   "cell_type": "code",
   "execution_count": null,
   "id": "2b961e1c",
   "metadata": {},
   "outputs": [],
   "source": []
  }
 ],
 "metadata": {
  "kernelspec": {
   "display_name": "Python 3 (ipykernel)",
   "language": "python",
   "name": "python3"
  },
  "language_info": {
   "codemirror_mode": {
    "name": "ipython",
    "version": 3
   },
   "file_extension": ".py",
   "mimetype": "text/x-python",
   "name": "python",
   "nbconvert_exporter": "python",
   "pygments_lexer": "ipython3",
   "version": "3.11.5"
  }
 },
 "nbformat": 4,
 "nbformat_minor": 5
}
